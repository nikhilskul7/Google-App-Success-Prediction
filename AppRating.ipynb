{
 "cells": [
  {
   "cell_type": "markdown",
   "metadata": {},
   "source": [
    "Importing required libraries\n"
   ]
  },
  {
   "cell_type": "code",
   "execution_count": 144,
   "metadata": {},
   "outputs": [],
   "source": [
    "import pandas as pd\n",
    "import numpy as np\n",
    "import seaborn as sns\n",
    "from sklearn import metrics\n",
    "from sklearn.model_selection import train_test_split\n",
    "import random\n",
    "from sklearn import preprocessing\n",
    "import matplotlib.pyplot as plt\n",
    "%matplotlib inline"
   ]
  },
  {
   "cell_type": "markdown",
   "metadata": {},
   "source": [
    "Converting csv file into dataframe"
   ]
  },
  {
   "cell_type": "code",
   "execution_count": 145,
   "metadata": {
    "scrolled": true
   },
   "outputs": [
    {
     "name": "stderr",
     "output_type": "stream",
     "text": [
      "C:\\Users\\Nikhil\\anaconda3\\lib\\site-packages\\IPython\\core\\interactiveshell.py:3063: DtypeWarning: Columns (2,3,11,12,13) have mixed types.Specify dtype option on import or set low_memory=False.\n",
      "  interactivity=interactivity, compiler=compiler, result=result)\n"
     ]
    }
   ],
   "source": [
    "df=pd.read_csv('Google-Playstore-Full.csv')"
   ]
  },
  {
   "cell_type": "markdown",
   "metadata": {},
   "source": [
    "Checking out the data"
   ]
  },
  {
   "cell_type": "code",
   "execution_count": 146,
   "metadata": {},
   "outputs": [
    {
     "name": "stdout",
     "output_type": "stream",
     "text": [
      "<class 'pandas.core.frame.DataFrame'>\n",
      "RangeIndex: 267052 entries, 0 to 267051\n",
      "Data columns (total 15 columns):\n",
      " #   Column           Non-Null Count   Dtype  \n",
      "---  ------           --------------   -----  \n",
      " 0   App Name         267051 non-null  object \n",
      " 1   Category         267051 non-null  object \n",
      " 2   Rating           267052 non-null  object \n",
      " 3   Reviews          267051 non-null  object \n",
      " 4   Installs         267052 non-null  object \n",
      " 5   Size             267052 non-null  object \n",
      " 6   Price            267052 non-null  object \n",
      " 7   Content Rating   267052 non-null  object \n",
      " 8   Last Updated     267052 non-null  object \n",
      " 9   Minimum Version  267051 non-null  object \n",
      " 10  Latest Version   267049 non-null  object \n",
      " 11  Unnamed: 11      18 non-null      object \n",
      " 12  Unnamed: 12      3 non-null       object \n",
      " 13  Unnamed: 13      2 non-null       object \n",
      " 14  Unnamed: 14      1 non-null       float64\n",
      "dtypes: float64(1), object(14)\n",
      "memory usage: 30.6+ MB\n"
     ]
    }
   ],
   "source": [
    "df.info()"
   ]
  },
  {
   "cell_type": "markdown",
   "metadata": {},
   "source": [
    "Dropping the null values"
   ]
  },
  {
   "cell_type": "code",
   "execution_count": 147,
   "metadata": {},
   "outputs": [],
   "source": [
    "df=df.drop(columns=['Unnamed: 11', 'Unnamed: 12','Unnamed: 13','Unnamed: 14', 'Last Updated', 'Minimum Version', 'Latest Version'])"
   ]
  },
  {
   "cell_type": "code",
   "execution_count": 148,
   "metadata": {},
   "outputs": [
    {
     "name": "stdout",
     "output_type": "stream",
     "text": [
      "<class 'pandas.core.frame.DataFrame'>\n",
      "Int64Index: 255325 entries, 2 to 267051\n",
      "Data columns (total 8 columns):\n",
      " #   Column          Non-Null Count   Dtype  \n",
      "---  ------          --------------   -----  \n",
      " 0   App Name        255324 non-null  object \n",
      " 1   Category        255324 non-null  object \n",
      " 2   Rating          255325 non-null  object \n",
      " 3   Reviews         255324 non-null  object \n",
      " 4   Installs        255325 non-null  object \n",
      " 5   Size            255325 non-null  float64\n",
      " 6   Price           255325 non-null  object \n",
      " 7   Content Rating  255325 non-null  object \n",
      "dtypes: float64(1), object(7)\n",
      "memory usage: 27.5+ MB\n"
     ]
    }
   ],
   "source": [
    "df = df[df.Size.str.contains('\\d')]\n",
    "df.Size[df.Size.str.contains('k')] = \"0.\"+df.Size[df.Size.str.contains('k')].str.replace('.','')\n",
    "df.Size = df.Size.str.replace('k','')\n",
    "df.Size = df.Size.str.replace('M','')\n",
    "df.Size = df.Size.str.replace(',','')\n",
    "df.Size = df.Size.str.replace('+','')\n",
    "df.Size = df.Size.astype(float)\n",
    "df.info()"
   ]
  },
  {
   "cell_type": "code",
   "execution_count": 149,
   "metadata": {
    "scrolled": true
   },
   "outputs": [
    {
     "name": "stdout",
     "output_type": "stream",
     "text": [
      "<class 'pandas.core.frame.DataFrame'>\n",
      "Int64Index: 255308 entries, 2 to 267051\n",
      "Data columns (total 8 columns):\n",
      " #   Column          Non-Null Count   Dtype  \n",
      "---  ------          --------------   -----  \n",
      " 0   App Name        255307 non-null  object \n",
      " 1   Category        255308 non-null  object \n",
      " 2   Rating          255308 non-null  object \n",
      " 3   Reviews         255308 non-null  object \n",
      " 4   Installs        255308 non-null  object \n",
      " 5   Size            255308 non-null  float64\n",
      " 6   Price           255308 non-null  object \n",
      " 7   Content Rating  255308 non-null  object \n",
      "dtypes: float64(1), object(7)\n",
      "memory usage: 17.5+ MB\n"
     ]
    }
   ],
   "source": [
    "df = df[df.Installs.str.contains('\\+')]\n",
    "df.Installs = df.Installs.str.replace('+','')\n",
    "df.Installs = df.Installs.str.replace(',','')\n",
    "df.Installs.astype(int)\n",
    "df.info()"
   ]
  },
  {
   "cell_type": "code",
   "execution_count": 150,
   "metadata": {},
   "outputs": [],
   "source": [
    "df.Price = df.Price.str.contains('1|2|3|4|5|7|8|9').replace(False, 0)"
   ]
  },
  {
   "cell_type": "code",
   "execution_count": 151,
   "metadata": {},
   "outputs": [],
   "source": [
    "df = df[df.applymap(np.isreal).Reviews]\n",
    "df.Reviews = df.Reviews.astype(float)\n",
    "df.Rating=df.Rating.astype(float)"
   ]
  },
  {
   "cell_type": "code",
   "execution_count": 152,
   "metadata": {
    "scrolled": true
   },
   "outputs": [
    {
     "name": "stdout",
     "output_type": "stream",
     "text": [
      "<class 'pandas.core.frame.DataFrame'>\n",
      "Int64Index: 191674 entries, 2 to 267051\n",
      "Data columns (total 8 columns):\n",
      " #   Column          Non-Null Count   Dtype  \n",
      "---  ------          --------------   -----  \n",
      " 0   App Name        191674 non-null  object \n",
      " 1   Category        191674 non-null  object \n",
      " 2   Rating          191674 non-null  float64\n",
      " 3   Reviews         191674 non-null  float64\n",
      " 4   Installs        191674 non-null  object \n",
      " 5   Size            191674 non-null  float64\n",
      " 6   Price           191674 non-null  float64\n",
      " 7   Content Rating  191674 non-null  object \n",
      "dtypes: float64(4), object(4)\n",
      "memory usage: 13.2+ MB\n"
     ]
    }
   ],
   "source": [
    "df.info()"
   ]
  },
  {
   "cell_type": "markdown",
   "metadata": {},
   "source": [
    "Getting an idea about the data"
   ]
  },
  {
   "cell_type": "code",
   "execution_count": 153,
   "metadata": {},
   "outputs": [
    {
     "data": {
      "text/html": [
       "<div>\n",
       "<style scoped>\n",
       "    .dataframe tbody tr th:only-of-type {\n",
       "        vertical-align: middle;\n",
       "    }\n",
       "\n",
       "    .dataframe tbody tr th {\n",
       "        vertical-align: top;\n",
       "    }\n",
       "\n",
       "    .dataframe thead th {\n",
       "        text-align: right;\n",
       "    }\n",
       "</style>\n",
       "<table border=\"1\" class=\"dataframe\">\n",
       "  <thead>\n",
       "    <tr style=\"text-align: right;\">\n",
       "      <th></th>\n",
       "      <th>App Name</th>\n",
       "      <th>Category</th>\n",
       "      <th>Rating</th>\n",
       "      <th>Reviews</th>\n",
       "      <th>Installs</th>\n",
       "      <th>Size</th>\n",
       "      <th>Price</th>\n",
       "      <th>Content Rating</th>\n",
       "    </tr>\n",
       "  </thead>\n",
       "  <tbody>\n",
       "    <tr>\n",
       "      <th>2</th>\n",
       "      <td>Peapod</td>\n",
       "      <td>SHOPPING</td>\n",
       "      <td>3.656329</td>\n",
       "      <td>1967.0</td>\n",
       "      <td>100000</td>\n",
       "      <td>1.4</td>\n",
       "      <td>0.0</td>\n",
       "      <td>Everyone</td>\n",
       "    </tr>\n",
       "    <tr>\n",
       "      <th>3</th>\n",
       "      <td>foodpanda - Local Food Delivery</td>\n",
       "      <td>FOOD_AND_DRINK</td>\n",
       "      <td>4.107233</td>\n",
       "      <td>389154.0</td>\n",
       "      <td>10000000</td>\n",
       "      <td>16.0</td>\n",
       "      <td>0.0</td>\n",
       "      <td>Everyone</td>\n",
       "    </tr>\n",
       "    <tr>\n",
       "      <th>5</th>\n",
       "      <td>Safeway Online Shopping</td>\n",
       "      <td>FOOD_AND_DRINK</td>\n",
       "      <td>3.825322</td>\n",
       "      <td>2559.0</td>\n",
       "      <td>100000</td>\n",
       "      <td>23.0</td>\n",
       "      <td>0.0</td>\n",
       "      <td>Everyone</td>\n",
       "    </tr>\n",
       "    <tr>\n",
       "      <th>8</th>\n",
       "      <td>Fast Food Locator | Worldwide Fast Food Finder</td>\n",
       "      <td>TRAVEL_AND_LOCAL</td>\n",
       "      <td>3.811765</td>\n",
       "      <td>85.0</td>\n",
       "      <td>10000</td>\n",
       "      <td>4.1</td>\n",
       "      <td>0.0</td>\n",
       "      <td>Everyone</td>\n",
       "    </tr>\n",
       "    <tr>\n",
       "      <th>12</th>\n",
       "      <td>FreshDirect</td>\n",
       "      <td>LIFESTYLE</td>\n",
       "      <td>3.213528</td>\n",
       "      <td>754.0</td>\n",
       "      <td>100000</td>\n",
       "      <td>39.0</td>\n",
       "      <td>0.0</td>\n",
       "      <td>Everyone</td>\n",
       "    </tr>\n",
       "  </tbody>\n",
       "</table>\n",
       "</div>"
      ],
      "text/plain": [
       "                                          App Name          Category  \\\n",
       "2                                           Peapod          SHOPPING   \n",
       "3                  foodpanda - Local Food Delivery    FOOD_AND_DRINK   \n",
       "5                          Safeway Online Shopping    FOOD_AND_DRINK   \n",
       "8   Fast Food Locator | Worldwide Fast Food Finder  TRAVEL_AND_LOCAL   \n",
       "12                                     FreshDirect         LIFESTYLE   \n",
       "\n",
       "      Rating   Reviews  Installs  Size  Price Content Rating  \n",
       "2   3.656329    1967.0    100000   1.4    0.0       Everyone  \n",
       "3   4.107233  389154.0  10000000  16.0    0.0       Everyone  \n",
       "5   3.825322    2559.0    100000  23.0    0.0       Everyone  \n",
       "8   3.811765      85.0     10000   4.1    0.0       Everyone  \n",
       "12  3.213528     754.0    100000  39.0    0.0       Everyone  "
      ]
     },
     "execution_count": 153,
     "metadata": {},
     "output_type": "execute_result"
    }
   ],
   "source": [
    "df.head()"
   ]
  },
  {
   "cell_type": "markdown",
   "metadata": {},
   "source": [
    "Identifying the categories for apps"
   ]
  },
  {
   "cell_type": "code",
   "execution_count": 154,
   "metadata": {},
   "outputs": [
    {
     "name": "stdout",
     "output_type": "stream",
     "text": [
      "There are 49 categories in our DataSet)\n",
      "['SHOPPING', 'FOOD_AND_DRINK', 'TRAVEL_AND_LOCAL', 'LIFESTYLE', 'GAME_ACTION', 'GAME_CASUAL', 'GAME_ROLE_PLAYING', 'GAME_PUZZLE', 'GAME_ADVENTURE', 'GAME_ARCADE', 'GAME_STRATEGY', 'GAME_SPORTS', 'GAME_SIMULATION', 'GAME_MUSIC', 'MUSIC_AND_AUDIO', 'FINANCE', 'EVENTS', 'ENTERTAINMENT', 'EDUCATION', 'GAME_EDUCATIONAL', 'BOOKS_AND_REFERENCE', 'PHOTOGRAPHY', 'VIDEO_PLAYERS', 'NEWS_AND_MAGAZINES', 'GAME_WORD', 'ART_AND_DESIGN', 'GAME_TRIVIA', 'GAME_BOARD', 'BUSINESS', 'PRODUCTIVITY', 'COMMUNICATION', 'HEALTH_AND_FITNESS', 'HOUSE_AND_HOME', 'BEAUTY', 'SOCIAL', 'MAPS_AND_NAVIGATION', 'GAME_CASINO', 'GAME_CARD', 'SPORTS', 'AUTO_AND_VEHICLES', 'GAME_RACING', 'TOOLS', 'PERSONALIZATION', 'LIBRARIES_AND_DEMO', 'COMICS', 'DATING', 'WEATHER', 'PARENTING', 'MEDICAL', 'TRAVEL']\n"
     ]
    }
   ],
   "source": [
    "categories = list(df[\"Category\"].unique())\n",
    "print(\"There are {0:.0f} categories in our DataSet)\".format(len(categories)-1))\n",
    "print(categories)\n"
   ]
  },
  {
   "cell_type": "code",
   "execution_count": 155,
   "metadata": {},
   "outputs": [
    {
     "data": {
      "text/plain": [
       "0"
      ]
     },
     "execution_count": 155,
     "metadata": {},
     "output_type": "execute_result"
    }
   ],
   "source": [
    "df['Rating'].isnull().sum()"
   ]
  },
  {
   "cell_type": "code",
   "execution_count": 156,
   "metadata": {},
   "outputs": [
    {
     "data": {
      "image/png": "[encoded data removed]",
      "text/plain": [
       "<Figure size 432x288 with 1 Axes>"
      ]
     },
     "metadata": {
      "needs_background": "light"
     },
     "output_type": "display_data"
    }
   ],
   "source": [
    "fig,ax = plt.subplots(1,1)\n",
    "a = df['Rating']\n",
    "a=a.astype(float)\n",
    "ax.hist(a, bins = [1,1.5,2,2.5,3,3.5,4,4.5,5])\n",
    "ax.set_title(\"Ratings of Apps\")\n",
    "ax.set_xlabel('Rating')\n",
    "ax.set_ylabel('Number of apps')\n",
    "plt.show()\n"
   ]
  },
  {
   "cell_type": "code",
   "execution_count": 157,
   "metadata": {},
   "outputs": [
    {
     "data": {
      "text/plain": [
       "Category\n",
       "ART_AND_DESIGN          647\n",
       "AUTO_AND_VEHICLES       690\n",
       "BEAUTY                  389\n",
       "BOOKS_AND_REFERENCE    7273\n",
       "BUSINESS               2045\n",
       "COMICS                  253\n",
       "COMMUNICATION          1730\n",
       "DATING                  127\n",
       "EDUCATION              9293\n",
       "ENTERTAINMENT          6601\n",
       "EVENTS                  162\n",
       "FINANCE                3047\n",
       "FOOD_AND_DRINK          963\n",
       "GAME_ACTION             875\n",
       "GAME_ADVENTURE          608\n",
       "GAME_ARCADE            1063\n",
       "GAME_BOARD              529\n",
       "GAME_CARD               687\n",
       "GAME_CASINO             255\n",
       "GAME_CASUAL            1189\n",
       "GAME_EDUCATIONAL        867\n",
       "GAME_MUSIC              135\n",
       "GAME_PUZZLE            1795\n",
       "GAME_RACING             405\n",
       "GAME_ROLE_PLAYING       743\n",
       "GAME_SIMULATION         975\n",
       "GAME_SPORTS             443\n",
       "GAME_STRATEGY           585\n",
       "GAME_TRIVIA             350\n",
       "GAME_WORD               548\n",
       "HEALTH_AND_FITNESS     2422\n",
       "HOUSE_AND_HOME          282\n",
       "LIBRARIES_AND_DEMO      244\n",
       "LIFESTYLE              4908\n",
       "MAPS_AND_NAVIGATION    1109\n",
       "MEDICAL                1215\n",
       "MUSIC_AND_AUDIO        5933\n",
       "NEWS_AND_MAGAZINES     2597\n",
       "PARENTING               335\n",
       "PERSONALIZATION        4654\n",
       "PHOTOGRAPHY            2996\n",
       "PRODUCTIVITY           2915\n",
       "SHOPPING               1664\n",
       "SOCIAL                 1906\n",
       "SPORTS                 2046\n",
       "TOOLS                  6996\n",
       "TRAVEL_AND_LOCAL       1875\n",
       "VIDEO_PLAYERS          1011\n",
       "WEATHER                 778\n",
       "Name: Rating, dtype: int64"
      ]
     },
     "execution_count": 157,
     "metadata": {},
     "output_type": "execute_result"
    }
   ],
   "source": [
    "highRating = df.copy()\n",
    "highRating = highRating.loc[highRating[\"Rating\"] >= 4.0]\n",
    "highRateNum = highRating.groupby('Category')['Rating'].nunique()\n",
    "highRateNum"
   ]
  },
  {
   "cell_type": "markdown",
   "metadata": {},
   "source": [
    "Installs and reviews  have highest logical corelation"
   ]
  },
  {
   "cell_type": "code",
   "execution_count": 160,
   "metadata": {},
   "outputs": [
    {
     "data": {
      "text/html": [
       "<div>\n",
       "<style scoped>\n",
       "    .dataframe tbody tr th:only-of-type {\n",
       "        vertical-align: middle;\n",
       "    }\n",
       "\n",
       "    .dataframe tbody tr th {\n",
       "        vertical-align: top;\n",
       "    }\n",
       "\n",
       "    .dataframe thead th {\n",
       "        text-align: right;\n",
       "    }\n",
       "</style>\n",
       "<table border=\"1\" class=\"dataframe\">\n",
       "  <thead>\n",
       "    <tr style=\"text-align: right;\">\n",
       "      <th></th>\n",
       "      <th>App Name</th>\n",
       "      <th>Installs</th>\n",
       "      <th>Content Rating</th>\n",
       "      <th>Reviews</th>\n",
       "    </tr>\n",
       "  </thead>\n",
       "  <tbody>\n",
       "    <tr>\n",
       "      <th>0</th>\n",
       "      <td>Samsung Keyboard</td>\n",
       "      <td>500000000</td>\n",
       "      <td>Everyone</td>\n",
       "      <td>12582.0</td>\n",
       "    </tr>\n",
       "    <tr>\n",
       "      <th>1</th>\n",
       "      <td>Hill Climb Racing</td>\n",
       "      <td>500000000</td>\n",
       "      <td>Everyone</td>\n",
       "      <td>9257863.0</td>\n",
       "    </tr>\n",
       "    <tr>\n",
       "      <th>2</th>\n",
       "      <td>Dropbox</td>\n",
       "      <td>500000000</td>\n",
       "      <td>Everyone</td>\n",
       "      <td>1920612.0</td>\n",
       "    </tr>\n",
       "    <tr>\n",
       "      <th>3</th>\n",
       "      <td>LINE: Free Calls &amp; Messages</td>\n",
       "      <td>500000000</td>\n",
       "      <td>Everyone</td>\n",
       "      <td>11390281.0</td>\n",
       "    </tr>\n",
       "    <tr>\n",
       "      <th>4</th>\n",
       "      <td>Pou</td>\n",
       "      <td>500000000</td>\n",
       "      <td>Everyone</td>\n",
       "      <td>10752323.0</td>\n",
       "    </tr>\n",
       "    <tr>\n",
       "      <th>5</th>\n",
       "      <td>Clash of Clans</td>\n",
       "      <td>500000000</td>\n",
       "      <td>Everyone 10+</td>\n",
       "      <td>48401470.0</td>\n",
       "    </tr>\n",
       "    <tr>\n",
       "      <th>6</th>\n",
       "      <td>HP Print Service Plugin</td>\n",
       "      <td>500000000</td>\n",
       "      <td>Everyone</td>\n",
       "      <td>1976168.0</td>\n",
       "    </tr>\n",
       "    <tr>\n",
       "      <th>7</th>\n",
       "      <td>Briefing</td>\n",
       "      <td>500000000</td>\n",
       "      <td>Everyone 10+</td>\n",
       "      <td>377071.0</td>\n",
       "    </tr>\n",
       "    <tr>\n",
       "      <th>8</th>\n",
       "      <td>Device Care</td>\n",
       "      <td>500000000</td>\n",
       "      <td>Everyone</td>\n",
       "      <td>99127.0</td>\n",
       "    </tr>\n",
       "    <tr>\n",
       "      <th>9</th>\n",
       "      <td>UC Browser � Short Video Status &amp; Video Downlo...</td>\n",
       "      <td>500000000</td>\n",
       "      <td>Teen</td>\n",
       "      <td>19573637.0</td>\n",
       "    </tr>\n",
       "    <tr>\n",
       "      <th>10</th>\n",
       "      <td>TikTok</td>\n",
       "      <td>500000000</td>\n",
       "      <td>Teen</td>\n",
       "      <td>9670607.0</td>\n",
       "    </tr>\n",
       "    <tr>\n",
       "      <th>11</th>\n",
       "      <td>Samsung Health</td>\n",
       "      <td>500000000</td>\n",
       "      <td>Everyone</td>\n",
       "      <td>667452.0</td>\n",
       "    </tr>\n",
       "    <tr>\n",
       "      <th>12</th>\n",
       "      <td>Snapchat</td>\n",
       "      <td>500000000</td>\n",
       "      <td>Teen</td>\n",
       "      <td>19026060.0</td>\n",
       "    </tr>\n",
       "    <tr>\n",
       "      <th>13</th>\n",
       "      <td>Samsung Gallery</td>\n",
       "      <td>500000000</td>\n",
       "      <td>Everyone</td>\n",
       "      <td>1545980.0</td>\n",
       "    </tr>\n",
       "    <tr>\n",
       "      <th>14</th>\n",
       "      <td>Candy Crush Saga</td>\n",
       "      <td>500000000</td>\n",
       "      <td>Everyone</td>\n",
       "      <td>24657922.0</td>\n",
       "    </tr>\n",
       "    <tr>\n",
       "      <th>15</th>\n",
       "      <td>Clean Master Lite - For Low-End Phones</td>\n",
       "      <td>50000000</td>\n",
       "      <td>Everyone</td>\n",
       "      <td>2455107.0</td>\n",
       "    </tr>\n",
       "    <tr>\n",
       "      <th>16</th>\n",
       "      <td>WPS Office (BETA)</td>\n",
       "      <td>50000000</td>\n",
       "      <td>Everyone</td>\n",
       "      <td>178707.0</td>\n",
       "    </tr>\n",
       "    <tr>\n",
       "      <th>17</th>\n",
       "      <td>ASUS Quick Memo</td>\n",
       "      <td>50000000</td>\n",
       "      <td>Everyone</td>\n",
       "      <td>24054.0</td>\n",
       "    </tr>\n",
       "    <tr>\n",
       "      <th>18</th>\n",
       "      <td>Granny</td>\n",
       "      <td>50000000</td>\n",
       "      <td>Mature 17+</td>\n",
       "      <td>2095954.0</td>\n",
       "    </tr>\n",
       "    <tr>\n",
       "      <th>19</th>\n",
       "      <td>ZERO Launcher- HD Themes,3D Wallpapers,Color I...</td>\n",
       "      <td>50000000</td>\n",
       "      <td>Teen</td>\n",
       "      <td>1815585.0</td>\n",
       "    </tr>\n",
       "    <tr>\n",
       "      <th>20</th>\n",
       "      <td>My Talking Hank</td>\n",
       "      <td>50000000</td>\n",
       "      <td>Everyone</td>\n",
       "      <td>888013.0</td>\n",
       "    </tr>\n",
       "    <tr>\n",
       "      <th>21</th>\n",
       "      <td>Angry Birds Go!</td>\n",
       "      <td>50000000</td>\n",
       "      <td>Everyone</td>\n",
       "      <td>3875555.0</td>\n",
       "    </tr>\n",
       "    <tr>\n",
       "      <th>22</th>\n",
       "      <td>CM Browser - Ad Blocker , Fast Download , Privacy</td>\n",
       "      <td>50000000</td>\n",
       "      <td>Everyone</td>\n",
       "      <td>2345362.0</td>\n",
       "    </tr>\n",
       "    <tr>\n",
       "      <th>23</th>\n",
       "      <td>NinJump</td>\n",
       "      <td>50000000</td>\n",
       "      <td>Everyone</td>\n",
       "      <td>427169.0</td>\n",
       "    </tr>\n",
       "    <tr>\n",
       "      <th>24</th>\n",
       "      <td>Angry Birds Star Wars II Free</td>\n",
       "      <td>50000000</td>\n",
       "      <td>Everyone</td>\n",
       "      <td>1269922.0</td>\n",
       "    </tr>\n",
       "    <tr>\n",
       "      <th>25</th>\n",
       "      <td>ASUS Digital Clock &amp; Widget</td>\n",
       "      <td>50000000</td>\n",
       "      <td>Everyone</td>\n",
       "      <td>151529.0</td>\n",
       "    </tr>\n",
       "    <tr>\n",
       "      <th>26</th>\n",
       "      <td>4 Pics 1 Word</td>\n",
       "      <td>50000000</td>\n",
       "      <td>Everyone</td>\n",
       "      <td>1118270.0</td>\n",
       "    </tr>\n",
       "    <tr>\n",
       "      <th>27</th>\n",
       "      <td>Brawl Stars</td>\n",
       "      <td>50000000</td>\n",
       "      <td>Everyone 10+</td>\n",
       "      <td>3048732.0</td>\n",
       "    </tr>\n",
       "    <tr>\n",
       "      <th>28</th>\n",
       "      <td>Zombie Catchers</td>\n",
       "      <td>50000000</td>\n",
       "      <td>Everyone</td>\n",
       "      <td>1191943.0</td>\n",
       "    </tr>\n",
       "    <tr>\n",
       "      <th>29</th>\n",
       "      <td>EA SPORTS UFC�</td>\n",
       "      <td>50000000</td>\n",
       "      <td>Teen</td>\n",
       "      <td>2541987.0</td>\n",
       "    </tr>\n",
       "    <tr>\n",
       "      <th>30</th>\n",
       "      <td>Fishing Hook</td>\n",
       "      <td>50000000</td>\n",
       "      <td>Everyone</td>\n",
       "      <td>1350740.0</td>\n",
       "    </tr>\n",
       "    <tr>\n",
       "      <th>31</th>\n",
       "      <td>Beach Buggy Racing</td>\n",
       "      <td>50000000</td>\n",
       "      <td>Everyone</td>\n",
       "      <td>1628573.0</td>\n",
       "    </tr>\n",
       "    <tr>\n",
       "      <th>32</th>\n",
       "      <td>Subway Princess Runner</td>\n",
       "      <td>50000000</td>\n",
       "      <td>Teen</td>\n",
       "      <td>205897.0</td>\n",
       "    </tr>\n",
       "    <tr>\n",
       "      <th>33</th>\n",
       "      <td>Coin Dozer - Free Prizes</td>\n",
       "      <td>50000000</td>\n",
       "      <td>Teen</td>\n",
       "      <td>1286162.0</td>\n",
       "    </tr>\n",
       "    <tr>\n",
       "      <th>34</th>\n",
       "      <td>ooVoo Video Calls, Messaging &amp; Stories</td>\n",
       "      <td>50000000</td>\n",
       "      <td>Everyone</td>\n",
       "      <td>1155679.0</td>\n",
       "    </tr>\n",
       "    <tr>\n",
       "      <th>35</th>\n",
       "      <td>Block Puzzle - Wood Legend</td>\n",
       "      <td>50000000</td>\n",
       "      <td>Everyone</td>\n",
       "      <td>455454.0</td>\n",
       "    </tr>\n",
       "    <tr>\n",
       "      <th>36</th>\n",
       "      <td>Stick War: Legacy</td>\n",
       "      <td>50000000</td>\n",
       "      <td>Teen</td>\n",
       "      <td>1012020.0</td>\n",
       "    </tr>\n",
       "    <tr>\n",
       "      <th>37</th>\n",
       "      <td>Paper.io 2</td>\n",
       "      <td>50000000</td>\n",
       "      <td>Everyone</td>\n",
       "      <td>922295.0</td>\n",
       "    </tr>\n",
       "    <tr>\n",
       "      <th>38</th>\n",
       "      <td>Color Bump 3D</td>\n",
       "      <td>50000000</td>\n",
       "      <td>Everyone</td>\n",
       "      <td>137215.0</td>\n",
       "    </tr>\n",
       "    <tr>\n",
       "      <th>39</th>\n",
       "      <td>OLX - Comprar, vender, an�ncios e ofertas</td>\n",
       "      <td>50000000</td>\n",
       "      <td>Everyone</td>\n",
       "      <td>1031980.0</td>\n",
       "    </tr>\n",
       "    <tr>\n",
       "      <th>40</th>\n",
       "      <td>Club Factory - Online Shopping App</td>\n",
       "      <td>50000000</td>\n",
       "      <td>Everyone</td>\n",
       "      <td>584751.0</td>\n",
       "    </tr>\n",
       "  </tbody>\n",
       "</table>\n",
       "</div>"
      ],
      "text/plain": [
       "                                             App Name   Installs  \\\n",
       "0                                    Samsung Keyboard  500000000   \n",
       "1                                   Hill Climb Racing  500000000   \n",
       "2                                             Dropbox  500000000   \n",
       "3                         LINE: Free Calls & Messages  500000000   \n",
       "4                                                 Pou  500000000   \n",
       "5                                      Clash of Clans  500000000   \n",
       "6                             HP Print Service Plugin  500000000   \n",
       "7                                            Briefing  500000000   \n",
       "8                                         Device Care  500000000   \n",
       "9   UC Browser � Short Video Status & Video Downlo...  500000000   \n",
       "10                                             TikTok  500000000   \n",
       "11                                     Samsung Health  500000000   \n",
       "12                                           Snapchat  500000000   \n",
       "13                                    Samsung Gallery  500000000   \n",
       "14                                   Candy Crush Saga  500000000   \n",
       "15             Clean Master Lite - For Low-End Phones   50000000   \n",
       "16                                  WPS Office (BETA)   50000000   \n",
       "17                                    ASUS Quick Memo   50000000   \n",
       "18                                             Granny   50000000   \n",
       "19  ZERO Launcher- HD Themes,3D Wallpapers,Color I...   50000000   \n",
       "20                                    My Talking Hank   50000000   \n",
       "21                                    Angry Birds Go!   50000000   \n",
       "22  CM Browser - Ad Blocker , Fast Download , Privacy   50000000   \n",
       "23                                            NinJump   50000000   \n",
       "24                      Angry Birds Star Wars II Free   50000000   \n",
       "25                        ASUS Digital Clock & Widget   50000000   \n",
       "26                                      4 Pics 1 Word   50000000   \n",
       "27                                        Brawl Stars   50000000   \n",
       "28                                    Zombie Catchers   50000000   \n",
       "29                                     EA SPORTS UFC�   50000000   \n",
       "30                                       Fishing Hook   50000000   \n",
       "31                                 Beach Buggy Racing   50000000   \n",
       "32                             Subway Princess Runner   50000000   \n",
       "33                           Coin Dozer - Free Prizes   50000000   \n",
       "34             ooVoo Video Calls, Messaging & Stories   50000000   \n",
       "35                         Block Puzzle - Wood Legend   50000000   \n",
       "36                                  Stick War: Legacy   50000000   \n",
       "37                                         Paper.io 2   50000000   \n",
       "38                                      Color Bump 3D   50000000   \n",
       "39          OLX - Comprar, vender, an�ncios e ofertas   50000000   \n",
       "40                 Club Factory - Online Shopping App   50000000   \n",
       "\n",
       "   Content Rating     Reviews  \n",
       "0        Everyone     12582.0  \n",
       "1        Everyone   9257863.0  \n",
       "2        Everyone   1920612.0  \n",
       "3        Everyone  11390281.0  \n",
       "4        Everyone  10752323.0  \n",
       "5    Everyone 10+  48401470.0  \n",
       "6        Everyone   1976168.0  \n",
       "7    Everyone 10+    377071.0  \n",
       "8        Everyone     99127.0  \n",
       "9            Teen  19573637.0  \n",
       "10           Teen   9670607.0  \n",
       "11       Everyone    667452.0  \n",
       "12           Teen  19026060.0  \n",
       "13       Everyone   1545980.0  \n",
       "14       Everyone  24657922.0  \n",
       "15       Everyone   2455107.0  \n",
       "16       Everyone    178707.0  \n",
       "17       Everyone     24054.0  \n",
       "18     Mature 17+   2095954.0  \n",
       "19           Teen   1815585.0  \n",
       "20       Everyone    888013.0  \n",
       "21       Everyone   3875555.0  \n",
       "22       Everyone   2345362.0  \n",
       "23       Everyone    427169.0  \n",
       "24       Everyone   1269922.0  \n",
       "25       Everyone    151529.0  \n",
       "26       Everyone   1118270.0  \n",
       "27   Everyone 10+   3048732.0  \n",
       "28       Everyone   1191943.0  \n",
       "29           Teen   2541987.0  \n",
       "30       Everyone   1350740.0  \n",
       "31       Everyone   1628573.0  \n",
       "32           Teen    205897.0  \n",
       "33           Teen   1286162.0  \n",
       "34       Everyone   1155679.0  \n",
       "35       Everyone    455454.0  \n",
       "36           Teen   1012020.0  \n",
       "37       Everyone    922295.0  \n",
       "38       Everyone    137215.0  \n",
       "39       Everyone   1031980.0  \n",
       "40       Everyone    584751.0  "
      ]
     },
     "execution_count": 160,
     "metadata": {},
     "output_type": "execute_result"
    }
   ],
   "source": [
    "popApps = df.copy()\n",
    "popApps = popApps.drop_duplicates()\n",
    "#Remove characters preventing values from being floats and integers\n",
    "'''popApps[\"Installs\"] = popApps[\"Installs\"].str.replace(\"+\",\"\") \n",
    "popApps[\"Installs\"] = popApps[\"Installs\"].str.replace(\",\",\"\")\n",
    "popApps[\"Installs\"] = popApps[\"Installs\"].astype(\"int64\")\n",
    "popApps[\"Price\"] = popApps[\"Price\"].str.replace(\"$\",\"\")\n",
    "popApps[\"Price\"] = popApps[\"Price\"].astype(\"float64\")\n",
    "popApps[\"Size\"] = popApps[\"Size\"].str.replace(\"Varies with device\",\"0\")\n",
    "popApps[\"Size\"] = (popApps[\"Size\"].replace(r'[kM]+$', '', regex=True).astype(float) *\\\n",
    "        popApps[\"Size\"].str.extract(r'[\\d\\.]+([kM]+)', expand=False).fillna(1).replace(['k','M'], [10**3, 10**6]).astype(int))\n",
    "popApps[\"Reviews\"] = popApps[\"Reviews\"].astype(\"int64\")\n",
    "'''\n",
    "popApps = popApps.sort_values(by=\"Installs\",ascending=False)\n",
    "popApps.reset_index(inplace=True)\n",
    "popApps.drop([\"index\"],axis=1,inplace=True)\n",
    "popApps.loc[:40,['App Name','Installs','Content Rating','Reviews']]"
   ]
  },
  {
   "cell_type": "code",
   "execution_count": 168,
   "metadata": {},
   "outputs": [
    {
     "data": {
      "text/plain": [
       "App Name           object\n",
       "Category            int32\n",
       "Rating            float64\n",
       "Reviews           float64\n",
       "Installs            int32\n",
       "Size              float64\n",
       "Price             float64\n",
       "Content Rating      int32\n",
       "dtype: object"
      ]
     },
     "execution_count": 168,
     "metadata": {},
     "output_type": "execute_result"
    }
   ],
   "source": [
    "df2 = popApps.copy()\n",
    "label_encoder = preprocessing.LabelEncoder() \n",
    "  \n",
    "# Encode labels in column 'Category'. \n",
    "df2['Category']= label_encoder.fit_transform(df2['Category']) \n",
    "df2['Content Rating']= label_encoder.fit_transform(df2['Content Rating']) \n",
    "#df2['Genres']= label_encoder.fit_transform(df2['Genres']) \n",
    "df2.Installs=df2.Installs.astype(int)\n",
    "df2.dtypes"
   ]
  },
  {
   "cell_type": "code",
   "execution_count": 169,
   "metadata": {},
   "outputs": [
    {
     "name": "stdout",
     "output_type": "stream",
     "text": [
      "There are 191665 total rows.\n",
      "23252 Apps are Popular!\n",
      "168413 Apps are Unpopular!\n",
      "\n",
      "For an 80-20 training/test split, we need about 38333.0 apps for testing\n",
      "\n",
      "Cut 1010 apps off Popular df for a total of 3558 Popular training apps.\n",
      "Cut 766 apps off Unpopular df for a total of 3558 Unpopular training apps.\n",
      "\n"
     ]
    }
   ],
   "source": [
    "df2 = df2.drop([\"App Name\"],axis=1)\n",
    "print(\"There are {} total rows.\".format(df2.shape[0]))\n",
    "countPop = df2[df2[\"Installs\"] > 100000].count()\n",
    "print(\"{} Apps are Popular!\".format(countPop[0]))\n",
    "print(\"{} Apps are Unpopular!\\n\".format((df2.shape[0]-countPop)[0]))\n",
    "print(\"For an 80-20 training/test split, we need about {} apps for testing\\n\".format(df2.shape[0]*.20))\n",
    "df2[\"Installs\"] = (df2[\"Installs\"] > 100000)*1 #Installs Binarized\n",
    "print(\"Cut {} apps off Popular df for a total of 3558 Popular training apps.\".format(int(4568*.22132)))\n",
    "print(\"Cut {} apps off Unpopular df for a total of 3558 Unpopular training apps.\\n\".format(int(4324*.17738)))"
   ]
  },
  {
   "cell_type": "code",
   "execution_count": 170,
   "metadata": {},
   "outputs": [
    {
     "name": "stdout",
     "output_type": "stream",
     "text": [
      "Values were not dropped from training dataframe. False\n",
      "   Category    Rating     Reviews  Installs  Size  Price  Content Rating\n",
      "0        41  3.755762     12582.0         1  58.0    0.0               1\n",
      "1        23  4.440125   9257863.0         1  64.0    0.0               1\n",
      "2        41  4.390956   1920612.0         1  72.0    0.0               1\n",
      "3         6  4.185223  11390281.0         1  94.0    0.0               1\n",
      "4        19  4.330340  10752323.0         1  24.0    0.0               1\n"
     ]
    }
   ],
   "source": [
    "test1 = df2[df2[\"Installs\"] == 1].sample(1010,random_state=0)\n",
    "df2 = df2.drop(test1.index)\n",
    "print(\"Values were not dropped from training dataframe.\",test1.index[0] in df2.index)\n",
    "print(df2.head())"
   ]
  },
  {
   "cell_type": "code",
   "execution_count": 171,
   "metadata": {},
   "outputs": [
    {
     "name": "stdout",
     "output_type": "stream",
     "text": [
      "Values were not dropped from training dataframe. False\n",
      "   Category    Rating     Reviews  Installs  Size  Price  Content Rating\n",
      "0        41  3.755762     12582.0         1  58.0    0.0               1\n",
      "1        23  4.440125   9257863.0         1  64.0    0.0               1\n",
      "2        41  4.390956   1920612.0         1  72.0    0.0               1\n",
      "3         6  4.185223  11390281.0         1  94.0    0.0               1\n",
      "4        19  4.330340  10752323.0         1  24.0    0.0               1\n"
     ]
    }
   ],
   "source": [
    "test0 = df2[df2[\"Installs\"] == 0].sample(766,random_state=0)\n",
    "df2 = df2.drop(test0.index)\n",
    "\n",
    "print(\"Values were not dropped from training dataframe.\",test0.index[0] in df2.index)\n",
    "print(df2.head())"
   ]
  },
  {
   "cell_type": "code",
   "execution_count": 172,
   "metadata": {},
   "outputs": [],
   "source": [
    "testDf = test1.append(test0)\n",
    "trainDf = df2\n",
    "#Shuffle rows in test & training data set\n",
    "testDf = testDf.sample(frac=1,random_state=0).reset_index(drop=True)\n",
    "trainDf = trainDf.sample(frac=1,random_state=0).reset_index(drop=True)\n",
    "\n"
   ]
  },
  {
   "cell_type": "code",
   "execution_count": 173,
   "metadata": {},
   "outputs": [],
   "source": [
    "#Form training and test data split\n",
    "y_train = trainDf.pop(\"Installs\")\n",
    "X_train = trainDf.copy()\n",
    "y_test = testDf.pop(\"Installs\")\n",
    "X_test = testDf.copy()\n",
    "\n"
   ]
  },
  {
   "cell_type": "code",
   "execution_count": 174,
   "metadata": {},
   "outputs": [],
   "source": [
    "X_train = X_train.drop(['Reviews', 'Rating'], axis=1) #REMOVE ROW TO INCLUDE REVIEWS & RATINGS IN ML MODEL ~93% accurate\n",
    "X_test = X_test.drop(['Reviews', 'Rating'], axis=1)   #REMOVE ROW TO INCLUDE REVIEWS & RATINGS IN ML MODEL ~93% accurate"
   ]
  },
  {
   "cell_type": "code",
   "execution_count": 175,
   "metadata": {},
   "outputs": [
    {
     "name": "stdout",
     "output_type": "stream",
     "text": [
      "   Category  Size  Price  Content Rating\n",
      "0        11  13.0    0.0               1\n",
      "1        44   6.5    0.0               1\n",
      "2         8   9.8    0.0               1\n",
      "3        39   9.0    0.0               1\n",
      "4        45   2.1    0.0               1\n"
     ]
    }
   ],
   "source": [
    "print(X_train.head())"
   ]
  },
  {
   "cell_type": "code",
   "execution_count": 176,
   "metadata": {},
   "outputs": [
    {
     "name": "stdout",
     "output_type": "stream",
     "text": [
      "0    0\n",
      "1    0\n",
      "2    0\n",
      "3    0\n",
      "4    0\n",
      "Name: Installs, dtype: int32\n"
     ]
    }
   ],
   "source": [
    "print(y_train.head())"
   ]
  },
  {
   "cell_type": "code",
   "execution_count": 177,
   "metadata": {},
   "outputs": [
    {
     "name": "stdout",
     "output_type": "stream",
     "text": [
      "189889 Apps are used for Training.\n",
      "1776 Apps are used for Testing.\n"
     ]
    }
   ],
   "source": [
    "print(\"{} Apps are used for Training.\".format(y_train.count()))\n",
    "print(\"{} Apps are used for Testing.\".format(y_test.count()))"
   ]
  },
  {
   "cell_type": "code",
   "execution_count": null,
   "metadata": {},
   "outputs": [],
   "source": []
  }
 ],
 "metadata": {
  "kernelspec": {
   "display_name": "Python 3",
   "language": "python",
   "name": "python3"
  },
  "language_info": {
   "codemirror_mode": {
    "name": "ipython",
    "version": 3
   },
   "file_extension": ".py",
   "mimetype": "text/x-python",
   "name": "python",
   "nbconvert_exporter": "python",
   "pygments_lexer": "ipython3",
   "version": "3.7.6"
  }
 },
 "nbformat": 4,
 "nbformat_minor": 4
}
