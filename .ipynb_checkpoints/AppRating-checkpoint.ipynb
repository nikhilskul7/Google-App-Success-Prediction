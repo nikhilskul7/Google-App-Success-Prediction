{
 "cells": [
  {
   "cell_type": "markdown",
   "metadata": {},
   "source": [
    "# Importing required libraries\n"
   ]
  },
  {
   "cell_type": "code",
   "execution_count": 1,
   "metadata": {},
   "outputs": [],
   "source": [
    "import pandas as pd\n",
    "import numpy as np\n",
    "import seaborn as sns\n",
    "from sklearn import metrics\n",
    "from sklearn.model_selection import train_test_split\n",
    "import random\n",
    "from scipy import stats\n",
    "from sklearn import preprocessing\n",
    "import matplotlib.pyplot as plt\n",
    "from sklearn.tree import DecisionTreeClassifier\n",
    "from sklearn.metrics import accuracy_score\n",
    "from sklearn.linear_model import LogisticRegression\n",
    "from sklearn.model_selection import GridSearchCV\n",
    "from sklearn.svm import LinearSVC\n",
    "from sklearn.ensemble import RandomForestClassifier\n",
    "from sklearn.linear_model import SGDClassifier\n",
    "from sklearn.ensemble import AdaBoostClassifier\n",
    "from sklearn.model_selection import GridSearchCV\n",
    "from sklearn.neighbors import KNeighborsClassifier\n",
    "from sklearn.metrics import classification_report\n",
    "%matplotlib inline"
   ]
  },
  {
   "cell_type": "markdown",
   "metadata": {},
   "source": [
    "Converting csv file into dataframe"
   ]
  },
  {
   "cell_type": "code",
   "execution_count": 2,
   "metadata": {
    "scrolled": true
   },
   "outputs": [
    {
     "name": "stderr",
     "output_type": "stream",
     "text": [
      "C:\\Users\\Nikhil\\anaconda3\\lib\\site-packages\\IPython\\core\\interactiveshell.py:3063: DtypeWarning: Columns (2,3,11,12,13) have mixed types.Specify dtype option on import or set low_memory=False.\n",
      "  interactivity=interactivity, compiler=compiler, result=result)\n"
     ]
    }
   ],
   "source": [
    "df=pd.read_csv('Google-Playstore-Full.csv')"
   ]
  },
  {
   "cell_type": "markdown",
   "metadata": {},
   "source": [
    "Checking out the data"
   ]
  },
  {
   "cell_type": "code",
   "execution_count": 3,
   "metadata": {},
   "outputs": [
    {
     "name": "stdout",
     "output_type": "stream",
     "text": [
      "<class 'pandas.core.frame.DataFrame'>\n",
      "RangeIndex: 267052 entries, 0 to 267051\n",
      "Data columns (total 15 columns):\n",
      " #   Column           Non-Null Count   Dtype  \n",
      "---  ------           --------------   -----  \n",
      " 0   App Name         267051 non-null  object \n",
      " 1   Category         267051 non-null  object \n",
      " 2   Rating           267052 non-null  object \n",
      " 3   Reviews          267051 non-null  object \n",
      " 4   Installs         267052 non-null  object \n",
      " 5   Size             267052 non-null  object \n",
      " 6   Price            267052 non-null  object \n",
      " 7   Content Rating   267052 non-null  object \n",
      " 8   Last Updated     267052 non-null  object \n",
      " 9   Minimum Version  267051 non-null  object \n",
      " 10  Latest Version   267049 non-null  object \n",
      " 11  Unnamed: 11      18 non-null      object \n",
      " 12  Unnamed: 12      3 non-null       object \n",
      " 13  Unnamed: 13      2 non-null       object \n",
      " 14  Unnamed: 14      1 non-null       float64\n",
      "dtypes: float64(1), object(14)\n",
      "memory usage: 30.6+ MB\n"
     ]
    }
   ],
   "source": [
    "df.info()"
   ]
  },
  {
   "cell_type": "markdown",
   "metadata": {},
   "source": [
    "# Data Cleaning"
   ]
  },
  {
   "cell_type": "markdown",
   "metadata": {},
   "source": [
    "Dropping the null values and unnecessary columns"
   ]
  },
  {
   "cell_type": "code",
   "execution_count": 4,
   "metadata": {},
   "outputs": [],
   "source": [
    "df=df.drop(columns=['Unnamed: 11', 'Unnamed: 12','Unnamed: 13','Unnamed: 14', 'Last Updated', 'Minimum Version', 'Latest Version'])"
   ]
  },
  {
   "cell_type": "markdown",
   "metadata": {},
   "source": [
    "Converting Size column into float from object"
   ]
  },
  {
   "cell_type": "code",
   "execution_count": 5,
   "metadata": {},
   "outputs": [
    {
     "name": "stdout",
     "output_type": "stream",
     "text": [
      "<class 'pandas.core.frame.DataFrame'>\n",
      "Int64Index: 255325 entries, 2 to 267051\n",
      "Data columns (total 8 columns):\n",
      " #   Column          Non-Null Count   Dtype  \n",
      "---  ------          --------------   -----  \n",
      " 0   App Name        255324 non-null  object \n",
      " 1   Category        255324 non-null  object \n",
      " 2   Rating          255325 non-null  object \n",
      " 3   Reviews         255324 non-null  object \n",
      " 4   Installs        255325 non-null  object \n",
      " 5   Size            255325 non-null  float64\n",
      " 6   Price           255325 non-null  object \n",
      " 7   Content Rating  255325 non-null  object \n",
      "dtypes: float64(1), object(7)\n",
      "memory usage: 27.5+ MB\n"
     ]
    }
   ],
   "source": [
    "df = df[df.Size.str.contains('\\d')]\n",
    "df.Size[df.Size.str.contains('k')] = \"0.\"+df.Size[df.Size.str.contains('k')].str.replace('.','')\n",
    "df.Size = df.Size.str.replace('k','')\n",
    "df.Size = df.Size.str.replace('M','')\n",
    "df.Size = df.Size.str.replace(',','')\n",
    "df.Size = df.Size.str.replace('+','')\n",
    "df.Size = df.Size.astype(float)\n",
    "df.info()"
   ]
  },
  {
   "cell_type": "markdown",
   "metadata": {},
   "source": [
    "Converting Installs into float from object"
   ]
  },
  {
   "cell_type": "code",
   "execution_count": 6,
   "metadata": {
    "scrolled": true
   },
   "outputs": [
    {
     "name": "stdout",
     "output_type": "stream",
     "text": [
      "<class 'pandas.core.frame.DataFrame'>\n",
      "Int64Index: 255308 entries, 2 to 267051\n",
      "Data columns (total 8 columns):\n",
      " #   Column          Non-Null Count   Dtype  \n",
      "---  ------          --------------   -----  \n",
      " 0   App Name        255307 non-null  object \n",
      " 1   Category        255308 non-null  object \n",
      " 2   Rating          255308 non-null  object \n",
      " 3   Reviews         255308 non-null  object \n",
      " 4   Installs        255308 non-null  object \n",
      " 5   Size            255308 non-null  float64\n",
      " 6   Price           255308 non-null  object \n",
      " 7   Content Rating  255308 non-null  object \n",
      "dtypes: float64(1), object(7)\n",
      "memory usage: 17.5+ MB\n"
     ]
    }
   ],
   "source": [
    "df = df[df.Installs.str.contains('\\+')]\n",
    "df.Installs = df.Installs.str.replace('+','')\n",
    "df.Installs = df.Installs.str.replace(',','')\n",
    "df.Installs.astype(int)\n",
    "df.info()"
   ]
  },
  {
   "cell_type": "markdown",
   "metadata": {},
   "source": [
    "Convert Price into float from object"
   ]
  },
  {
   "cell_type": "code",
   "execution_count": 7,
   "metadata": {},
   "outputs": [],
   "source": [
    "df.Price = df.Price.str.contains('1|2|3|4|5|7|8|9').replace(False, 0)"
   ]
  },
  {
   "cell_type": "markdown",
   "metadata": {},
   "source": [
    "Convert Reviews into float from object"
   ]
  },
  {
   "cell_type": "code",
   "execution_count": 8,
   "metadata": {},
   "outputs": [],
   "source": [
    "df = df[df.applymap(np.isreal).Reviews]\n",
    "df.Reviews = df.Reviews.astype(float)\n",
    "df.Rating=df.Rating.astype(float)"
   ]
  },
  {
   "cell_type": "code",
   "execution_count": 9,
   "metadata": {
    "scrolled": true
   },
   "outputs": [
    {
     "name": "stdout",
     "output_type": "stream",
     "text": [
      "<class 'pandas.core.frame.DataFrame'>\n",
      "Int64Index: 191674 entries, 2 to 267051\n",
      "Data columns (total 8 columns):\n",
      " #   Column          Non-Null Count   Dtype  \n",
      "---  ------          --------------   -----  \n",
      " 0   App Name        191674 non-null  object \n",
      " 1   Category        191674 non-null  object \n",
      " 2   Rating          191674 non-null  float64\n",
      " 3   Reviews         191674 non-null  float64\n",
      " 4   Installs        191674 non-null  object \n",
      " 5   Size            191674 non-null  float64\n",
      " 6   Price           191674 non-null  float64\n",
      " 7   Content Rating  191674 non-null  object \n",
      "dtypes: float64(4), object(4)\n",
      "memory usage: 13.2+ MB\n"
     ]
    }
   ],
   "source": [
    "df.info()"
   ]
  },
  {
   "cell_type": "markdown",
   "metadata": {},
   "source": [
    "Understanding the dataframe"
   ]
  },
  {
   "cell_type": "code",
   "execution_count": 10,
   "metadata": {},
   "outputs": [
    {
     "data": {
      "text/html": [
       "<div>\n",
       "<style scoped>\n",
       "    .dataframe tbody tr th:only-of-type {\n",
       "        vertical-align: middle;\n",
       "    }\n",
       "\n",
       "    .dataframe tbody tr th {\n",
       "        vertical-align: top;\n",
       "    }\n",
       "\n",
       "    .dataframe thead th {\n",
       "        text-align: right;\n",
       "    }\n",
       "</style>\n",
       "<table border=\"1\" class=\"dataframe\">\n",
       "  <thead>\n",
       "    <tr style=\"text-align: right;\">\n",
       "      <th></th>\n",
       "      <th>App Name</th>\n",
       "      <th>Category</th>\n",
       "      <th>Rating</th>\n",
       "      <th>Reviews</th>\n",
       "      <th>Installs</th>\n",
       "      <th>Size</th>\n",
       "      <th>Price</th>\n",
       "      <th>Content Rating</th>\n",
       "    </tr>\n",
       "  </thead>\n",
       "  <tbody>\n",
       "    <tr>\n",
       "      <th>0</th>\n",
       "      <td>Peapod</td>\n",
       "      <td>SHOPPING</td>\n",
       "      <td>3.656329</td>\n",
       "      <td>1967.0</td>\n",
       "      <td>100000</td>\n",
       "      <td>1.4</td>\n",
       "      <td>0.0</td>\n",
       "      <td>Everyone</td>\n",
       "    </tr>\n",
       "    <tr>\n",
       "      <th>1</th>\n",
       "      <td>foodpanda - Local Food Delivery</td>\n",
       "      <td>FOOD_AND_DRINK</td>\n",
       "      <td>4.107233</td>\n",
       "      <td>389154.0</td>\n",
       "      <td>10000000</td>\n",
       "      <td>16.0</td>\n",
       "      <td>0.0</td>\n",
       "      <td>Everyone</td>\n",
       "    </tr>\n",
       "    <tr>\n",
       "      <th>2</th>\n",
       "      <td>Safeway Online Shopping</td>\n",
       "      <td>FOOD_AND_DRINK</td>\n",
       "      <td>3.825322</td>\n",
       "      <td>2559.0</td>\n",
       "      <td>100000</td>\n",
       "      <td>23.0</td>\n",
       "      <td>0.0</td>\n",
       "      <td>Everyone</td>\n",
       "    </tr>\n",
       "    <tr>\n",
       "      <th>3</th>\n",
       "      <td>Fast Food Locator | Worldwide Fast Food Finder</td>\n",
       "      <td>TRAVEL_AND_LOCAL</td>\n",
       "      <td>3.811765</td>\n",
       "      <td>85.0</td>\n",
       "      <td>10000</td>\n",
       "      <td>4.1</td>\n",
       "      <td>0.0</td>\n",
       "      <td>Everyone</td>\n",
       "    </tr>\n",
       "    <tr>\n",
       "      <th>4</th>\n",
       "      <td>FreshDirect</td>\n",
       "      <td>LIFESTYLE</td>\n",
       "      <td>3.213528</td>\n",
       "      <td>754.0</td>\n",
       "      <td>100000</td>\n",
       "      <td>39.0</td>\n",
       "      <td>0.0</td>\n",
       "      <td>Everyone</td>\n",
       "    </tr>\n",
       "  </tbody>\n",
       "</table>\n",
       "</div>"
      ],
      "text/plain": [
       "                                         App Name          Category    Rating  \\\n",
       "0                                          Peapod          SHOPPING  3.656329   \n",
       "1                 foodpanda - Local Food Delivery    FOOD_AND_DRINK  4.107233   \n",
       "2                         Safeway Online Shopping    FOOD_AND_DRINK  3.825322   \n",
       "3  Fast Food Locator | Worldwide Fast Food Finder  TRAVEL_AND_LOCAL  3.811765   \n",
       "4                                     FreshDirect         LIFESTYLE  3.213528   \n",
       "\n",
       "    Reviews  Installs  Size  Price Content Rating  \n",
       "0    1967.0    100000   1.4    0.0       Everyone  \n",
       "1  389154.0  10000000  16.0    0.0       Everyone  \n",
       "2    2559.0    100000  23.0    0.0       Everyone  \n",
       "3      85.0     10000   4.1    0.0       Everyone  \n",
       "4     754.0    100000  39.0    0.0       Everyone  "
      ]
     },
     "execution_count": 10,
     "metadata": {},
     "output_type": "execute_result"
    }
   ],
   "source": [
    "df=df.reset_index(drop=True)\n",
    "df.head()"
   ]
  },
  {
   "cell_type": "markdown",
   "metadata": {},
   "source": [
    "Identifying the categories for apps"
   ]
  },
  {
   "cell_type": "code",
   "execution_count": 11,
   "metadata": {},
   "outputs": [
    {
     "name": "stdout",
     "output_type": "stream",
     "text": [
      "There are 49 categories in our dataset: \n",
      "['SHOPPING', 'FOOD_AND_DRINK', 'TRAVEL_AND_LOCAL', 'LIFESTYLE', 'GAME_ACTION', 'GAME_CASUAL', 'GAME_ROLE_PLAYING', 'GAME_PUZZLE', 'GAME_ADVENTURE', 'GAME_ARCADE', 'GAME_STRATEGY', 'GAME_SPORTS', 'GAME_SIMULATION', 'GAME_MUSIC', 'MUSIC_AND_AUDIO', 'FINANCE', 'EVENTS', 'ENTERTAINMENT', 'EDUCATION', 'GAME_EDUCATIONAL', 'BOOKS_AND_REFERENCE', 'PHOTOGRAPHY', 'VIDEO_PLAYERS', 'NEWS_AND_MAGAZINES', 'GAME_WORD', 'ART_AND_DESIGN', 'GAME_TRIVIA', 'GAME_BOARD', 'BUSINESS', 'PRODUCTIVITY', 'COMMUNICATION', 'HEALTH_AND_FITNESS', 'HOUSE_AND_HOME', 'BEAUTY', 'SOCIAL', 'MAPS_AND_NAVIGATION', 'GAME_CASINO', 'GAME_CARD', 'SPORTS', 'AUTO_AND_VEHICLES', 'GAME_RACING', 'TOOLS', 'PERSONALIZATION', 'LIBRARIES_AND_DEMO', 'COMICS', 'DATING', 'WEATHER', 'PARENTING', 'MEDICAL', 'TRAVEL']\n"
     ]
    }
   ],
   "source": [
    "categories = list(df[\"Category\"].unique())\n",
    "print(\"There are {0:.0f} categories in our dataset: \".format(len(categories)-1))\n",
    "print(categories)\n"
   ]
  },
  {
   "cell_type": "code",
   "execution_count": 12,
   "metadata": {},
   "outputs": [
    {
     "data": {
      "text/plain": [
       "0"
      ]
     },
     "execution_count": 12,
     "metadata": {},
     "output_type": "execute_result"
    }
   ],
   "source": [
    "df['Rating'].isnull().sum()"
   ]
  },
  {
   "cell_type": "markdown",
   "metadata": {},
   "source": [
    "Bar Graph of Ratings"
   ]
  },
  {
   "cell_type": "code",
   "execution_count": 13,
   "metadata": {},
   "outputs": [
    {
     "data": {
      "image/png": "[encoded data removed]",
      "text/plain": [
       "<Figure size 432x288 with 1 Axes>"
      ]
     },
     "metadata": {
      "needs_background": "light"
     },
     "output_type": "display_data"
    }
   ],
   "source": [
    "fig,ax = plt.subplots(1,1)\n",
    "a = df['Rating']\n",
    "a=a.astype(float)\n",
    "ax.hist(a, bins = [1,1.5,2,2.5,3,3.5,4,4.5,5])\n",
    "ax.set_title(\"Ratings of Apps\")\n",
    "ax.set_xlabel('Rating')\n",
    "ax.set_ylabel('Number of apps')\n",
    "plt.show()\n"
   ]
  },
  {
   "cell_type": "markdown",
   "metadata": {},
   "source": [
    "As we can see maximum apps get rating froom 4 to 5 which means that there are very few apps with lower rating"
   ]
  },
  {
   "cell_type": "markdown",
   "metadata": {},
   "source": [
    "# Splitting The data in Games and Apps to classify better"
   ]
  },
  {
   "cell_type": "code",
   "execution_count": 14,
   "metadata": {},
   "outputs": [],
   "source": [
    "df.Category = df.Category.fillna('Unknown')\n",
    "games = df[df.Category.str.contains('GAME', regex=False)]\n",
    "other = df[~df.Category.str.contains('GAME', regex=False)]"
   ]
  },
  {
   "cell_type": "code",
   "execution_count": 15,
   "metadata": {},
   "outputs": [],
   "source": [
    "z_Rating = np.abs(stats.zscore(games.Rating))\n",
    "games = games[z_Rating < 3]\n",
    "z_Reviews = np.abs(stats.zscore(games.Reviews))\n",
    "games = games[z_Reviews < 3]\n",
    "\n",
    "z_Rating2 = np.abs(stats.zscore(other.Rating))\n",
    "other = other[z_Rating2 < 3]\n",
    "z_Reviews2 = np.abs(stats.zscore(other.Reviews))\n",
    "other = other[z_Reviews2 < 3]"
   ]
  },
  {
   "cell_type": "code",
   "execution_count": 16,
   "metadata": {},
   "outputs": [
    {
     "name": "stdout",
     "output_type": "stream",
     "text": [
      "Average Ratings:\n",
      "Games mean and std:  4.305662207988253 0.39182958482348945\n",
      "Other categories mean and std:  4.314347154487729 0.39182958482348945\n"
     ]
    }
   ],
   "source": [
    "games_mean = np.mean(games.Rating)\n",
    "games_std = np.std(games.Rating)\n",
    "\n",
    "other_mean = np.mean(other.Rating)\n",
    "other_std = np.std(games.Rating)\n",
    "print(\"Average Ratings:\")\n",
    "print('Games mean and std: ', games_mean, games_std)\n",
    "print('Other categories mean and std: ', other_mean, other_std)\n"
   ]
  },
  {
   "cell_type": "markdown",
   "metadata": {},
   "source": [
    "# Visualizing the data for Games"
   ]
  },
  {
   "cell_type": "code",
   "execution_count": 17,
   "metadata": {},
   "outputs": [
    {
     "data": {
      "image/png": "[encoded data removed]",
      "text/plain": [
       "<Figure size 720x1080 with 6 Axes>"
      ]
     },
     "metadata": {
      "needs_background": "light"
     },
     "output_type": "display_data"
    }
   ],
   "source": [
    "f, ax = plt.subplots(3,2,figsize=(10,15))\n",
    "\n",
    "games.Category.value_counts().plot(kind='bar', ax=ax[0,0])\n",
    "ax[0,0].set_title('Frequency of Games per Category')\n",
    "\n",
    "ax[0,1].scatter(games.Reviews[games.Reviews < 100000], games.Rating[games.Reviews < 100000])\n",
    "ax[0,1].set_title('Reviews vs Rating')\n",
    "ax[0,1].set_xlabel('# of Reviews')\n",
    "ax[0,1].set_ylabel('Rating')\n",
    "\n",
    "ax[1,0].hist(games.Rating, range=(3,5))\n",
    "ax[1,0].set_title('Ratings Histogram')\n",
    "ax[1,0].set_xlabel('Ratings')\n",
    "\n",
    "d = games.groupby('Category')['Rating'].mean().reset_index()\n",
    "ax[1,1].scatter(d.Category, d.Rating)\n",
    "ax[1,1].set_xticklabels(d.Category.unique(),rotation=90)\n",
    "ax[1,1].set_title('Mean Rating per Category')\n",
    "\n",
    "ax[2,0].hist(games.Size, range=(0,100),bins=10, label='Size')\n",
    "ax[2,0].set_title('Size Histogram')\n",
    "ax[2,0].set_xlabel('Size')\n",
    "\n",
    "games['Content Rating'].value_counts().plot(kind='bar', ax=ax[2,1])\n",
    "ax[2,1].set_title('Frequency of Games per Content Rating')\n",
    "f.tight_layout()\n"
   ]
  },
  {
   "cell_type": "markdown",
   "metadata": {},
   "source": [
    "Things we can conclude from above charts:\n",
    "1.Puzzles category in games have more demand with higher ratings too.\n",
    "2.Casino and cards have lesser apps but high rating.\n",
    "3.Size varies a lot in games unlike in apps with majority being in 0-20 MB.\n",
    "4.Unlike what we presumed Teen are not the one being targeted but people with all age group.\n",
    "5.Reviews are generally given for apps with higher rating."
   ]
  },
  {
   "cell_type": "markdown",
   "metadata": {},
   "source": [
    "# Visualizing the data for other Apps"
   ]
  },
  {
   "cell_type": "code",
   "execution_count": 18,
   "metadata": {},
   "outputs": [],
   "source": [
    "other = other[other.Category.map(other.Category.value_counts() > 3500)]"
   ]
  },
  {
   "cell_type": "code",
   "execution_count": 19,
   "metadata": {},
   "outputs": [
    {
     "data": {
      "image/png": "[encoded data removed]",
      "text/plain": [
       "<Figure size 720x1080 with 6 Axes>"
      ]
     },
     "metadata": {
      "needs_background": "light"
     },
     "output_type": "display_data"
    }
   ],
   "source": [
    "f, ax = plt.subplots(3,2,figsize=(10,15))\n",
    "\n",
    "other.Category.value_counts().plot(kind='bar', ax=ax[0,0])\n",
    "ax[0,0].set_title('Frequency of Others per Category')\n",
    "\n",
    "ax[0,1].scatter(other.Reviews[other.Reviews < 100000], other.Rating[other.Reviews < 100000])\n",
    "ax[0,1].set_title('Reviews vs Rating')\n",
    "ax[0,1].set_xlabel('# of Reviews')\n",
    "ax[0,1].set_ylabel('Rating')\n",
    "\n",
    "ax[1,0].hist(other.Rating, range=(3,5))\n",
    "ax[1,0].set_title('Ratings Histogram')\n",
    "ax[1,0].set_xlabel('Ratings')\n",
    "\n",
    "d = other.groupby('Category')['Rating'].mean().reset_index()\n",
    "ax[1,1].scatter(d.Category, d.Rating)\n",
    "ax[1,1].set_xticklabels(d.Category.unique(),rotation=90)\n",
    "ax[1,1].set_title('Mean Rating per Category')\n",
    "\n",
    "ax[2,0].hist(other.Size, range=(0,100),bins=10, label='Size')\n",
    "ax[2,0].set_title('Size Histogram')\n",
    "ax[2,0].set_xlabel('Size')\n",
    "\n",
    "other['Content Rating'].value_counts().plot(kind='bar', ax=ax[2,1])\n",
    "ax[2,1].set_title('Frequency of Others per Content Rating')\n",
    "\n",
    "f.tight_layout()"
   ]
  },
  {
   "cell_type": "markdown",
   "metadata": {},
   "source": [
    "From the charts we can conclude following things:\n",
    "1.Apps in category of Education,Tools,Entertainment,Books and Reference are present in heavy numbers their average rating is also better than rest of categories.\n",
    "2.Apps in categories communication,Travel,Finance are in lower numbers with their average rating being low too.\n",
    "3.Apps in category of Finance has low no of apps and lowest average rating which means that people have more demand in Finance and the apps lack in providing the comfort.\n",
    "4.Reviews are generally given for apps with higher rating.\n",
    "5.Apps generally appeal all kind of age group."
   ]
  },
  {
   "cell_type": "markdown",
   "metadata": {},
   "source": [
    "# Considering Apps with Rating above 4"
   ]
  },
  {
   "cell_type": "code",
   "execution_count": 20,
   "metadata": {},
   "outputs": [
    {
     "data": {
      "text/plain": [
       "Category\n",
       "ART_AND_DESIGN          647\n",
       "AUTO_AND_VEHICLES       690\n",
       "BEAUTY                  389\n",
       "BOOKS_AND_REFERENCE    7273\n",
       "BUSINESS               2045\n",
       "COMICS                  253\n",
       "COMMUNICATION          1730\n",
       "DATING                  127\n",
       "EDUCATION              9293\n",
       "ENTERTAINMENT          6601\n",
       "EVENTS                  162\n",
       "FINANCE                3047\n",
       "FOOD_AND_DRINK          963\n",
       "GAME_ACTION             875\n",
       "GAME_ADVENTURE          608\n",
       "GAME_ARCADE            1063\n",
       "GAME_BOARD              529\n",
       "GAME_CARD               687\n",
       "GAME_CASINO             255\n",
       "GAME_CASUAL            1189\n",
       "GAME_EDUCATIONAL        867\n",
       "GAME_MUSIC              135\n",
       "GAME_PUZZLE            1795\n",
       "GAME_RACING             405\n",
       "GAME_ROLE_PLAYING       743\n",
       "GAME_SIMULATION         975\n",
       "GAME_SPORTS             443\n",
       "GAME_STRATEGY           585\n",
       "GAME_TRIVIA             350\n",
       "GAME_WORD               548\n",
       "HEALTH_AND_FITNESS     2422\n",
       "HOUSE_AND_HOME          282\n",
       "LIBRARIES_AND_DEMO      244\n",
       "LIFESTYLE              4908\n",
       "MAPS_AND_NAVIGATION    1109\n",
       "MEDICAL                1215\n",
       "MUSIC_AND_AUDIO        5933\n",
       "NEWS_AND_MAGAZINES     2597\n",
       "PARENTING               335\n",
       "PERSONALIZATION        4654\n",
       "PHOTOGRAPHY            2996\n",
       "PRODUCTIVITY           2915\n",
       "SHOPPING               1664\n",
       "SOCIAL                 1906\n",
       "SPORTS                 2046\n",
       "TOOLS                  6996\n",
       "TRAVEL_AND_LOCAL       1875\n",
       "VIDEO_PLAYERS          1011\n",
       "WEATHER                 778\n",
       "Name: Rating, dtype: int64"
      ]
     },
     "execution_count": 20,
     "metadata": {},
     "output_type": "execute_result"
    }
   ],
   "source": [
    "highRating = df.copy()\n",
    "highRating = highRating.loc[highRating[\"Rating\"] >= 4.0]\n",
    "highRateNum = highRating.groupby('Category')['Rating'].nunique()\n",
    "highRateNum"
   ]
  },
  {
   "cell_type": "markdown",
   "metadata": {},
   "source": [
    "Apps in Categories of Libraries,House,Events,Dating and Comics have least number of apps rated above 4"
   ]
  },
  {
   "cell_type": "markdown",
   "metadata": {},
   "source": [
    "# Apps with Highest Installs"
   ]
  },
  {
   "cell_type": "code",
   "execution_count": 21,
   "metadata": {},
   "outputs": [
    {
     "data": {
      "text/html": [
       "<div>\n",
       "<style scoped>\n",
       "    .dataframe tbody tr th:only-of-type {\n",
       "        vertical-align: middle;\n",
       "    }\n",
       "\n",
       "    .dataframe tbody tr th {\n",
       "        vertical-align: top;\n",
       "    }\n",
       "\n",
       "    .dataframe thead th {\n",
       "        text-align: right;\n",
       "    }\n",
       "</style>\n",
       "<table border=\"1\" class=\"dataframe\">\n",
       "  <thead>\n",
       "    <tr style=\"text-align: right;\">\n",
       "      <th></th>\n",
       "      <th>App Name</th>\n",
       "      <th>Installs</th>\n",
       "      <th>Content Rating</th>\n",
       "      <th>Reviews</th>\n",
       "    </tr>\n",
       "  </thead>\n",
       "  <tbody>\n",
       "    <tr>\n",
       "      <th>0</th>\n",
       "      <td>Samsung Keyboard</td>\n",
       "      <td>500000000</td>\n",
       "      <td>Everyone</td>\n",
       "      <td>12582.0</td>\n",
       "    </tr>\n",
       "    <tr>\n",
       "      <th>1</th>\n",
       "      <td>Hill Climb Racing</td>\n",
       "      <td>500000000</td>\n",
       "      <td>Everyone</td>\n",
       "      <td>9257863.0</td>\n",
       "    </tr>\n",
       "    <tr>\n",
       "      <th>2</th>\n",
       "      <td>Dropbox</td>\n",
       "      <td>500000000</td>\n",
       "      <td>Everyone</td>\n",
       "      <td>1920612.0</td>\n",
       "    </tr>\n",
       "    <tr>\n",
       "      <th>3</th>\n",
       "      <td>LINE: Free Calls &amp; Messages</td>\n",
       "      <td>500000000</td>\n",
       "      <td>Everyone</td>\n",
       "      <td>11390281.0</td>\n",
       "    </tr>\n",
       "    <tr>\n",
       "      <th>4</th>\n",
       "      <td>Pou</td>\n",
       "      <td>500000000</td>\n",
       "      <td>Everyone</td>\n",
       "      <td>10752323.0</td>\n",
       "    </tr>\n",
       "    <tr>\n",
       "      <th>5</th>\n",
       "      <td>Clash of Clans</td>\n",
       "      <td>500000000</td>\n",
       "      <td>Everyone 10+</td>\n",
       "      <td>48401470.0</td>\n",
       "    </tr>\n",
       "    <tr>\n",
       "      <th>6</th>\n",
       "      <td>HP Print Service Plugin</td>\n",
       "      <td>500000000</td>\n",
       "      <td>Everyone</td>\n",
       "      <td>1976168.0</td>\n",
       "    </tr>\n",
       "    <tr>\n",
       "      <th>7</th>\n",
       "      <td>Briefing</td>\n",
       "      <td>500000000</td>\n",
       "      <td>Everyone 10+</td>\n",
       "      <td>377071.0</td>\n",
       "    </tr>\n",
       "    <tr>\n",
       "      <th>8</th>\n",
       "      <td>Device Care</td>\n",
       "      <td>500000000</td>\n",
       "      <td>Everyone</td>\n",
       "      <td>99127.0</td>\n",
       "    </tr>\n",
       "    <tr>\n",
       "      <th>9</th>\n",
       "      <td>UC Browser � Short Video Status &amp; Video Downlo...</td>\n",
       "      <td>500000000</td>\n",
       "      <td>Teen</td>\n",
       "      <td>19573637.0</td>\n",
       "    </tr>\n",
       "    <tr>\n",
       "      <th>10</th>\n",
       "      <td>TikTok</td>\n",
       "      <td>500000000</td>\n",
       "      <td>Teen</td>\n",
       "      <td>9670607.0</td>\n",
       "    </tr>\n",
       "    <tr>\n",
       "      <th>11</th>\n",
       "      <td>Samsung Health</td>\n",
       "      <td>500000000</td>\n",
       "      <td>Everyone</td>\n",
       "      <td>667452.0</td>\n",
       "    </tr>\n",
       "    <tr>\n",
       "      <th>12</th>\n",
       "      <td>Snapchat</td>\n",
       "      <td>500000000</td>\n",
       "      <td>Teen</td>\n",
       "      <td>19026060.0</td>\n",
       "    </tr>\n",
       "    <tr>\n",
       "      <th>13</th>\n",
       "      <td>Samsung Gallery</td>\n",
       "      <td>500000000</td>\n",
       "      <td>Everyone</td>\n",
       "      <td>1545980.0</td>\n",
       "    </tr>\n",
       "    <tr>\n",
       "      <th>14</th>\n",
       "      <td>Candy Crush Saga</td>\n",
       "      <td>500000000</td>\n",
       "      <td>Everyone</td>\n",
       "      <td>24657922.0</td>\n",
       "    </tr>\n",
       "    <tr>\n",
       "      <th>15</th>\n",
       "      <td>Clean Master Lite - For Low-End Phones</td>\n",
       "      <td>50000000</td>\n",
       "      <td>Everyone</td>\n",
       "      <td>2455107.0</td>\n",
       "    </tr>\n",
       "    <tr>\n",
       "      <th>16</th>\n",
       "      <td>WPS Office (BETA)</td>\n",
       "      <td>50000000</td>\n",
       "      <td>Everyone</td>\n",
       "      <td>178707.0</td>\n",
       "    </tr>\n",
       "    <tr>\n",
       "      <th>17</th>\n",
       "      <td>ASUS Quick Memo</td>\n",
       "      <td>50000000</td>\n",
       "      <td>Everyone</td>\n",
       "      <td>24054.0</td>\n",
       "    </tr>\n",
       "    <tr>\n",
       "      <th>18</th>\n",
       "      <td>Granny</td>\n",
       "      <td>50000000</td>\n",
       "      <td>Mature 17+</td>\n",
       "      <td>2095954.0</td>\n",
       "    </tr>\n",
       "    <tr>\n",
       "      <th>19</th>\n",
       "      <td>ZERO Launcher- HD Themes,3D Wallpapers,Color I...</td>\n",
       "      <td>50000000</td>\n",
       "      <td>Teen</td>\n",
       "      <td>1815585.0</td>\n",
       "    </tr>\n",
       "    <tr>\n",
       "      <th>20</th>\n",
       "      <td>My Talking Hank</td>\n",
       "      <td>50000000</td>\n",
       "      <td>Everyone</td>\n",
       "      <td>888013.0</td>\n",
       "    </tr>\n",
       "    <tr>\n",
       "      <th>21</th>\n",
       "      <td>Angry Birds Go!</td>\n",
       "      <td>50000000</td>\n",
       "      <td>Everyone</td>\n",
       "      <td>3875555.0</td>\n",
       "    </tr>\n",
       "    <tr>\n",
       "      <th>22</th>\n",
       "      <td>CM Browser - Ad Blocker , Fast Download , Privacy</td>\n",
       "      <td>50000000</td>\n",
       "      <td>Everyone</td>\n",
       "      <td>2345362.0</td>\n",
       "    </tr>\n",
       "    <tr>\n",
       "      <th>23</th>\n",
       "      <td>NinJump</td>\n",
       "      <td>50000000</td>\n",
       "      <td>Everyone</td>\n",
       "      <td>427169.0</td>\n",
       "    </tr>\n",
       "    <tr>\n",
       "      <th>24</th>\n",
       "      <td>Angry Birds Star Wars II Free</td>\n",
       "      <td>50000000</td>\n",
       "      <td>Everyone</td>\n",
       "      <td>1269922.0</td>\n",
       "    </tr>\n",
       "    <tr>\n",
       "      <th>25</th>\n",
       "      <td>ASUS Digital Clock &amp; Widget</td>\n",
       "      <td>50000000</td>\n",
       "      <td>Everyone</td>\n",
       "      <td>151529.0</td>\n",
       "    </tr>\n",
       "    <tr>\n",
       "      <th>26</th>\n",
       "      <td>4 Pics 1 Word</td>\n",
       "      <td>50000000</td>\n",
       "      <td>Everyone</td>\n",
       "      <td>1118270.0</td>\n",
       "    </tr>\n",
       "    <tr>\n",
       "      <th>27</th>\n",
       "      <td>Brawl Stars</td>\n",
       "      <td>50000000</td>\n",
       "      <td>Everyone 10+</td>\n",
       "      <td>3048732.0</td>\n",
       "    </tr>\n",
       "    <tr>\n",
       "      <th>28</th>\n",
       "      <td>Zombie Catchers</td>\n",
       "      <td>50000000</td>\n",
       "      <td>Everyone</td>\n",
       "      <td>1191943.0</td>\n",
       "    </tr>\n",
       "    <tr>\n",
       "      <th>29</th>\n",
       "      <td>EA SPORTS UFC�</td>\n",
       "      <td>50000000</td>\n",
       "      <td>Teen</td>\n",
       "      <td>2541987.0</td>\n",
       "    </tr>\n",
       "    <tr>\n",
       "      <th>30</th>\n",
       "      <td>Fishing Hook</td>\n",
       "      <td>50000000</td>\n",
       "      <td>Everyone</td>\n",
       "      <td>1350740.0</td>\n",
       "    </tr>\n",
       "    <tr>\n",
       "      <th>31</th>\n",
       "      <td>Beach Buggy Racing</td>\n",
       "      <td>50000000</td>\n",
       "      <td>Everyone</td>\n",
       "      <td>1628573.0</td>\n",
       "    </tr>\n",
       "    <tr>\n",
       "      <th>32</th>\n",
       "      <td>Subway Princess Runner</td>\n",
       "      <td>50000000</td>\n",
       "      <td>Teen</td>\n",
       "      <td>205897.0</td>\n",
       "    </tr>\n",
       "    <tr>\n",
       "      <th>33</th>\n",
       "      <td>Coin Dozer - Free Prizes</td>\n",
       "      <td>50000000</td>\n",
       "      <td>Teen</td>\n",
       "      <td>1286162.0</td>\n",
       "    </tr>\n",
       "    <tr>\n",
       "      <th>34</th>\n",
       "      <td>ooVoo Video Calls, Messaging &amp; Stories</td>\n",
       "      <td>50000000</td>\n",
       "      <td>Everyone</td>\n",
       "      <td>1155679.0</td>\n",
       "    </tr>\n",
       "    <tr>\n",
       "      <th>35</th>\n",
       "      <td>Block Puzzle - Wood Legend</td>\n",
       "      <td>50000000</td>\n",
       "      <td>Everyone</td>\n",
       "      <td>455454.0</td>\n",
       "    </tr>\n",
       "    <tr>\n",
       "      <th>36</th>\n",
       "      <td>Stick War: Legacy</td>\n",
       "      <td>50000000</td>\n",
       "      <td>Teen</td>\n",
       "      <td>1012020.0</td>\n",
       "    </tr>\n",
       "    <tr>\n",
       "      <th>37</th>\n",
       "      <td>Paper.io 2</td>\n",
       "      <td>50000000</td>\n",
       "      <td>Everyone</td>\n",
       "      <td>922295.0</td>\n",
       "    </tr>\n",
       "    <tr>\n",
       "      <th>38</th>\n",
       "      <td>Color Bump 3D</td>\n",
       "      <td>50000000</td>\n",
       "      <td>Everyone</td>\n",
       "      <td>137215.0</td>\n",
       "    </tr>\n",
       "    <tr>\n",
       "      <th>39</th>\n",
       "      <td>OLX - Comprar, vender, an�ncios e ofertas</td>\n",
       "      <td>50000000</td>\n",
       "      <td>Everyone</td>\n",
       "      <td>1031980.0</td>\n",
       "    </tr>\n",
       "    <tr>\n",
       "      <th>40</th>\n",
       "      <td>Club Factory - Online Shopping App</td>\n",
       "      <td>50000000</td>\n",
       "      <td>Everyone</td>\n",
       "      <td>584751.0</td>\n",
       "    </tr>\n",
       "  </tbody>\n",
       "</table>\n",
       "</div>"
      ],
      "text/plain": [
       "                                             App Name   Installs  \\\n",
       "0                                    Samsung Keyboard  500000000   \n",
       "1                                   Hill Climb Racing  500000000   \n",
       "2                                             Dropbox  500000000   \n",
       "3                         LINE: Free Calls & Messages  500000000   \n",
       "4                                                 Pou  500000000   \n",
       "5                                      Clash of Clans  500000000   \n",
       "6                             HP Print Service Plugin  500000000   \n",
       "7                                            Briefing  500000000   \n",
       "8                                         Device Care  500000000   \n",
       "9   UC Browser � Short Video Status & Video Downlo...  500000000   \n",
       "10                                             TikTok  500000000   \n",
       "11                                     Samsung Health  500000000   \n",
       "12                                           Snapchat  500000000   \n",
       "13                                    Samsung Gallery  500000000   \n",
       "14                                   Candy Crush Saga  500000000   \n",
       "15             Clean Master Lite - For Low-End Phones   50000000   \n",
       "16                                  WPS Office (BETA)   50000000   \n",
       "17                                    ASUS Quick Memo   50000000   \n",
       "18                                             Granny   50000000   \n",
       "19  ZERO Launcher- HD Themes,3D Wallpapers,Color I...   50000000   \n",
       "20                                    My Talking Hank   50000000   \n",
       "21                                    Angry Birds Go!   50000000   \n",
       "22  CM Browser - Ad Blocker , Fast Download , Privacy   50000000   \n",
       "23                                            NinJump   50000000   \n",
       "24                      Angry Birds Star Wars II Free   50000000   \n",
       "25                        ASUS Digital Clock & Widget   50000000   \n",
       "26                                      4 Pics 1 Word   50000000   \n",
       "27                                        Brawl Stars   50000000   \n",
       "28                                    Zombie Catchers   50000000   \n",
       "29                                     EA SPORTS UFC�   50000000   \n",
       "30                                       Fishing Hook   50000000   \n",
       "31                                 Beach Buggy Racing   50000000   \n",
       "32                             Subway Princess Runner   50000000   \n",
       "33                           Coin Dozer - Free Prizes   50000000   \n",
       "34             ooVoo Video Calls, Messaging & Stories   50000000   \n",
       "35                         Block Puzzle - Wood Legend   50000000   \n",
       "36                                  Stick War: Legacy   50000000   \n",
       "37                                         Paper.io 2   50000000   \n",
       "38                                      Color Bump 3D   50000000   \n",
       "39          OLX - Comprar, vender, an�ncios e ofertas   50000000   \n",
       "40                 Club Factory - Online Shopping App   50000000   \n",
       "\n",
       "   Content Rating     Reviews  \n",
       "0        Everyone     12582.0  \n",
       "1        Everyone   9257863.0  \n",
       "2        Everyone   1920612.0  \n",
       "3        Everyone  11390281.0  \n",
       "4        Everyone  10752323.0  \n",
       "5    Everyone 10+  48401470.0  \n",
       "6        Everyone   1976168.0  \n",
       "7    Everyone 10+    377071.0  \n",
       "8        Everyone     99127.0  \n",
       "9            Teen  19573637.0  \n",
       "10           Teen   9670607.0  \n",
       "11       Everyone    667452.0  \n",
       "12           Teen  19026060.0  \n",
       "13       Everyone   1545980.0  \n",
       "14       Everyone  24657922.0  \n",
       "15       Everyone   2455107.0  \n",
       "16       Everyone    178707.0  \n",
       "17       Everyone     24054.0  \n",
       "18     Mature 17+   2095954.0  \n",
       "19           Teen   1815585.0  \n",
       "20       Everyone    888013.0  \n",
       "21       Everyone   3875555.0  \n",
       "22       Everyone   2345362.0  \n",
       "23       Everyone    427169.0  \n",
       "24       Everyone   1269922.0  \n",
       "25       Everyone    151529.0  \n",
       "26       Everyone   1118270.0  \n",
       "27   Everyone 10+   3048732.0  \n",
       "28       Everyone   1191943.0  \n",
       "29           Teen   2541987.0  \n",
       "30       Everyone   1350740.0  \n",
       "31       Everyone   1628573.0  \n",
       "32           Teen    205897.0  \n",
       "33           Teen   1286162.0  \n",
       "34       Everyone   1155679.0  \n",
       "35       Everyone    455454.0  \n",
       "36           Teen   1012020.0  \n",
       "37       Everyone    922295.0  \n",
       "38       Everyone    137215.0  \n",
       "39       Everyone   1031980.0  \n",
       "40       Everyone    584751.0  "
      ]
     },
     "execution_count": 21,
     "metadata": {},
     "output_type": "execute_result"
    }
   ],
   "source": [
    "popApps = df.copy()\n",
    "popApps = popApps.drop_duplicates()\n",
    "popApps = popApps.sort_values(by=\"Installs\",ascending=False)\n",
    "popApps.reset_index(inplace=True)\n",
    "popApps.drop([\"index\"],axis=1,inplace=True)\n",
    "popApps.loc[:40,['App Name','Installs','Content Rating','Reviews']]"
   ]
  },
  {
   "cell_type": "markdown",
   "metadata": {},
   "source": [
    "# Preprocessing The Data"
   ]
  },
  {
   "cell_type": "code",
   "execution_count": 212,
   "metadata": {},
   "outputs": [
    {
     "name": "stdout",
     "output_type": "stream",
     "text": [
      "<class 'pandas.core.frame.DataFrame'>\n",
      "RangeIndex: 191665 entries, 0 to 191664\n",
      "Data columns (total 8 columns):\n",
      " #   Column          Non-Null Count   Dtype  \n",
      "---  ------          --------------   -----  \n",
      " 0   App Name        191665 non-null  object \n",
      " 1   Category        191665 non-null  int32  \n",
      " 2   Rating          191665 non-null  float64\n",
      " 3   Reviews         191665 non-null  float64\n",
      " 4   Installs        191665 non-null  int32  \n",
      " 5   Size            191665 non-null  float64\n",
      " 6   Price           191665 non-null  float64\n",
      " 7   Content Rating  191665 non-null  int32  \n",
      "dtypes: float64(4), int32(3), object(1)\n",
      "memory usage: 9.5+ MB\n"
     ]
    }
   ],
   "source": [
    "df2 = popApps.copy()\n",
    "label_encoder = preprocessing.LabelEncoder() \n",
    "  \n",
    "df2['Category']= label_encoder.fit_transform(df2['Category']) \n",
    "df2['Content Rating']= label_encoder.fit_transform(df2['Content Rating']) \n",
    "df2.Installs=df2.Installs.astype(int)\n",
    "df2.info()"
   ]
  },
  {
   "cell_type": "code",
   "execution_count": 213,
   "metadata": {
    "scrolled": false
   },
   "outputs": [
    {
     "name": "stdout",
     "output_type": "stream",
     "text": [
      "There are 191665 total rows.\n",
      "   Category    Rating     Reviews  Installs  Size  Price  Content Rating\n",
      "0        41  3.755762     12582.0         1  58.0    0.0               1\n",
      "1        23  4.440125   9257863.0         1  64.0    0.0               1\n",
      "2        41  4.390956   1920612.0         1  72.0    0.0               1\n",
      "3         6  4.185223  11390281.0         1  94.0    0.0               1\n",
      "4        19  4.330340  10752323.0         1  24.0    0.0               1\n"
     ]
    }
   ],
   "source": [
    "df2 = df2.drop([\"App Name\"],axis=1)\n",
    "df2[\"Installs\"] = (df2[\"Installs\"] > 100000)*1 #Installs Binarized\n",
    "print(\"There are {} total rows.\".format(df2.shape[0]))\n",
    "print(df2.head())"
   ]
  },
  {
   "cell_type": "markdown",
   "metadata": {},
   "source": [
    " # Splitting the Data"
   ]
  },
  {
   "cell_type": "code",
   "execution_count": 214,
   "metadata": {},
   "outputs": [],
   "source": [
    "X_train,X_test,y_train,y_test = train_test_split(df2[['Category','Rating','Reviews','Size','Price','Content Rating']],df2['Installs'],random_state=30,test_size=0.3)"
   ]
  },
  {
   "cell_type": "code",
   "execution_count": 215,
   "metadata": {},
   "outputs": [
    {
     "name": "stdout",
     "output_type": "stream",
     "text": [
      "<class 'pandas.core.frame.DataFrame'>\n",
      "Int64Index: 134165 entries, 164961 to 169765\n",
      "Data columns (total 6 columns):\n",
      " #   Column          Non-Null Count   Dtype  \n",
      "---  ------          --------------   -----  \n",
      " 0   Category        134165 non-null  int32  \n",
      " 1   Rating          134165 non-null  float64\n",
      " 2   Reviews         134165 non-null  float64\n",
      " 3   Size            134165 non-null  float64\n",
      " 4   Price           134165 non-null  float64\n",
      " 5   Content Rating  134165 non-null  int32  \n",
      "dtypes: float64(4), int32(2)\n",
      "memory usage: 6.1 MB\n",
      "None\n",
      "134165\n"
     ]
    }
   ],
   "source": [
    "print(X_train.info())\n",
    "print(y_train.count())"
   ]
  },
  {
   "cell_type": "code",
   "execution_count": 216,
   "metadata": {},
   "outputs": [
    {
     "name": "stdout",
     "output_type": "stream",
     "text": [
      "<class 'pandas.core.frame.DataFrame'>\n",
      "Int64Index: 57500 entries, 91304 to 121383\n",
      "Data columns (total 6 columns):\n",
      " #   Column          Non-Null Count  Dtype  \n",
      "---  ------          --------------  -----  \n",
      " 0   Category        57500 non-null  int32  \n",
      " 1   Rating          57500 non-null  float64\n",
      " 2   Reviews         57500 non-null  float64\n",
      " 3   Size            57500 non-null  float64\n",
      " 4   Price           57500 non-null  float64\n",
      " 5   Content Rating  57500 non-null  int32  \n",
      "dtypes: float64(4), int32(2)\n",
      "memory usage: 2.6 MB\n",
      "None\n",
      "57500\n"
     ]
    }
   ],
   "source": [
    "print(X_test.info())\n",
    "print(y_test.count())"
   ]
  },
  {
   "cell_type": "code",
   "execution_count": 217,
   "metadata": {},
   "outputs": [
    {
     "name": "stdout",
     "output_type": "stream",
     "text": [
      "Category          134165\n",
      "Rating            134165\n",
      "Reviews           134165\n",
      "Size              134165\n",
      "Price             134165\n",
      "Content Rating    134165\n",
      "dtype: int64 Apps are used for Training.\n",
      "Category          57500\n",
      "Rating            57500\n",
      "Reviews           57500\n",
      "Size              57500\n",
      "Price             57500\n",
      "Content Rating    57500\n",
      "dtype: int64 Apps are used for Testing.\n"
     ]
    }
   ],
   "source": [
    "print(\"{} Apps are used for Training.\".format(X_train.count()))\n",
    "print(\"{} Apps are used for Testing.\".format(X_test.count()))"
   ]
  },
  {
   "cell_type": "markdown",
   "metadata": {},
   "source": [
    "# Machine Learning Algorithms to see which fits the best"
   ]
  },
  {
   "cell_type": "markdown",
   "metadata": {},
   "source": [
    "Decision Tree Classifier"
   ]
  },
  {
   "cell_type": "code",
   "execution_count": 229,
   "metadata": {},
   "outputs": [
    {
     "name": "stdout",
     "output_type": "stream",
     "text": [
      "Train Score:  0.9595050870197145\n",
      "Test Score:  0.959391304347826\n",
      "              precision    recall  f1-score   support\n",
      "\n",
      "           0       0.97      0.98      0.98     50481\n",
      "           1       0.87      0.79      0.83      7019\n",
      "\n",
      "    accuracy                           0.96     57500\n",
      "   macro avg       0.92      0.88      0.90     57500\n",
      "weighted avg       0.96      0.96      0.96     57500\n",
      "\n"
     ]
    }
   ],
   "source": [
    "popularity_classifier = DecisionTreeClassifier(max_leaf_nodes=30, random_state=0)\n",
    "popularity_classifier.fit(X_train, y_train)\n",
    "print('Train Score: ',popularity_classifier.score(X_train, y_train))\n",
    "print('Test Score: ',popularity_classifier.score(X_test, y_test))\n",
    "print(classification_report(y_test,popularity_classifier.predict(X_test)))"
   ]
  },
  {
   "cell_type": "markdown",
   "metadata": {},
   "source": [
    "Grid Search CV"
   ]
  },
  {
   "cell_type": "code",
   "execution_count": 219,
   "metadata": {},
   "outputs": [
    {
     "name": "stdout",
     "output_type": "stream",
     "text": [
      "<bound method BaseEstimator.get_params of GridSearchCV(cv=None, error_score=nan,\n",
      "             estimator=LogisticRegression(C=1.0, class_weight=None, dual=False,\n",
      "                                          fit_intercept=True,\n",
      "                                          intercept_scaling=1, l1_ratio=None,\n",
      "                                          max_iter=100, multi_class='auto',\n",
      "                                          n_jobs=None, penalty='l2',\n",
      "                                          random_state=None, solver='lbfgs',\n",
      "                                          tol=0.0001, verbose=0,\n",
      "                                          warm_start=False),\n",
      "             iid='deprecated', n_jobs=None, param_grid={'C': [1]},\n",
      "             pre_dispatch='2*n_jobs', refit=True, return_train_score=False,\n",
      "             scoring=None, verbose=0)>\n"
     ]
    },
    {
     "name": "stderr",
     "output_type": "stream",
     "text": [
      "C:\\Users\\Nikhil\\anaconda3\\lib\\site-packages\\sklearn\\linear_model\\_logistic.py:940: ConvergenceWarning: lbfgs failed to converge (status=1):\n",
      "STOP: TOTAL NO. of ITERATIONS REACHED LIMIT.\n",
      "\n",
      "Increase the number of iterations (max_iter) or scale the data as shown in:\n",
      "    https://scikit-learn.org/stable/modules/preprocessing.html\n",
      "Please also refer to the documentation for alternative solver options:\n",
      "    https://scikit-learn.org/stable/modules/linear_model.html#logistic-regression\n",
      "  extra_warning_msg=_LOGISTIC_SOLVER_CONVERGENCE_MSG)\n",
      "C:\\Users\\Nikhil\\anaconda3\\lib\\site-packages\\sklearn\\linear_model\\_logistic.py:940: ConvergenceWarning: lbfgs failed to converge (status=1):\n",
      "STOP: TOTAL NO. of ITERATIONS REACHED LIMIT.\n",
      "\n",
      "Increase the number of iterations (max_iter) or scale the data as shown in:\n",
      "    https://scikit-learn.org/stable/modules/preprocessing.html\n",
      "Please also refer to the documentation for alternative solver options:\n",
      "    https://scikit-learn.org/stable/modules/linear_model.html#logistic-regression\n",
      "  extra_warning_msg=_LOGISTIC_SOLVER_CONVERGENCE_MSG)\n",
      "C:\\Users\\Nikhil\\anaconda3\\lib\\site-packages\\sklearn\\linear_model\\_logistic.py:940: ConvergenceWarning: lbfgs failed to converge (status=1):\n",
      "STOP: TOTAL NO. of ITERATIONS REACHED LIMIT.\n",
      "\n",
      "Increase the number of iterations (max_iter) or scale the data as shown in:\n",
      "    https://scikit-learn.org/stable/modules/preprocessing.html\n",
      "Please also refer to the documentation for alternative solver options:\n",
      "    https://scikit-learn.org/stable/modules/linear_model.html#logistic-regression\n",
      "  extra_warning_msg=_LOGISTIC_SOLVER_CONVERGENCE_MSG)\n",
      "C:\\Users\\Nikhil\\anaconda3\\lib\\site-packages\\sklearn\\linear_model\\_logistic.py:940: ConvergenceWarning: lbfgs failed to converge (status=1):\n",
      "STOP: TOTAL NO. of ITERATIONS REACHED LIMIT.\n",
      "\n",
      "Increase the number of iterations (max_iter) or scale the data as shown in:\n",
      "    https://scikit-learn.org/stable/modules/preprocessing.html\n",
      "Please also refer to the documentation for alternative solver options:\n",
      "    https://scikit-learn.org/stable/modules/linear_model.html#logistic-regression\n",
      "  extra_warning_msg=_LOGISTIC_SOLVER_CONVERGENCE_MSG)\n"
     ]
    },
    {
     "name": "stdout",
     "output_type": "stream",
     "text": [
      "Train Score:  0.9523199045950881\n",
      "Test Score:  0.9530260869565217\n",
      "              precision    recall  f1-score   support\n",
      "\n",
      "           0       0.96      0.99      0.97     50481\n",
      "           1       0.91      0.69      0.78      7019\n",
      "\n",
      "    accuracy                           0.95     57500\n",
      "   macro avg       0.93      0.84      0.88     57500\n",
      "weighted avg       0.95      0.95      0.95     57500\n",
      "\n"
     ]
    }
   ],
   "source": [
    "classify=GridSearchCV(LogisticRegression(),{'C':[1]})\n",
    "print(classify.get_params)\n",
    "classify=classify.fit(X_train,y_train)\n",
    "print('Train Score: ',classify.score(X_train, y_train))\n",
    "print('Test Score: ',classify.score(X_test, y_test))\n",
    "print(classification_report(y_test,classify.predict(X_test)))"
   ]
  },
  {
   "cell_type": "markdown",
   "metadata": {},
   "source": [
    " SGD Classifier"
   ]
  },
  {
   "cell_type": "code",
   "execution_count": 220,
   "metadata": {},
   "outputs": [
    {
     "name": "stdout",
     "output_type": "stream",
     "text": [
      "<bound method BaseEstimator.get_params of SGDClassifier(alpha=1, average=False, class_weight=None, early_stopping=False,\n",
      "              epsilon=0.1, eta0=0.0, fit_intercept=True, l1_ratio=0.15,\n",
      "              learning_rate='optimal', loss='hinge', max_iter=1000,\n",
      "              n_iter_no_change=5, n_jobs=None, penalty='l2', power_t=0.5,\n",
      "              random_state=None, shuffle=True, tol=0.001,\n",
      "              validation_fraction=0.1, verbose=0, warm_start=False)>\n",
      "Train Score:  0.9356240450191928\n",
      "Test Score:  0.9353913043478261\n",
      "              precision    recall  f1-score   support\n",
      "\n",
      "           0       0.93      1.00      0.96     50481\n",
      "           1       0.94      0.50      0.65      7019\n",
      "\n",
      "    accuracy                           0.94     57500\n",
      "   macro avg       0.94      0.75      0.81     57500\n",
      "weighted avg       0.94      0.94      0.93     57500\n",
      "\n"
     ]
    }
   ],
   "source": [
    "classify2=SGDClassifier(alpha=1)\n",
    "print(classify2.get_params)\n",
    "classify2=classify2.fit(X_train,y_train)\n",
    "print('Train Score: ',classify2.score(X_train, y_train))\n",
    "print('Test Score: ',classify2.score(X_test, y_test))\n",
    "print(classification_report(y_test,classify2.predict(X_test)))"
   ]
  },
  {
   "cell_type": "markdown",
   "metadata": {},
   "source": [
    "Grid Search CV"
   ]
  },
  {
   "cell_type": "code",
   "execution_count": 221,
   "metadata": {},
   "outputs": [
    {
     "name": "stdout",
     "output_type": "stream",
     "text": [
      "Train Score:  0.9500018633771848\n",
      "Test Score:  0.9508\n",
      "              precision    recall  f1-score   support\n",
      "\n",
      "           0       0.95      0.99      0.97     50481\n",
      "           1       0.92      0.66      0.76      7019\n",
      "\n",
      "    accuracy                           0.95     57500\n",
      "   macro avg       0.94      0.82      0.87     57500\n",
      "weighted avg       0.95      0.95      0.95     57500\n",
      "\n"
     ]
    }
   ],
   "source": [
    "classify3=GridSearchCV(LinearSVC(C=0.8,dual=False),{'C':[10]})\n",
    "classify3=classify3.fit(X_train,y_train)\n",
    "print('Train Score: ',classify3.score(X_train, y_train))\n",
    "print('Test Score: ',classify3.score(X_test, y_test))\n",
    "print(classification_report(y_test,classify3.predict(X_test)))"
   ]
  },
  {
   "cell_type": "markdown",
   "metadata": {},
   "source": [
    "KNN Classifier"
   ]
  },
  {
   "cell_type": "code",
   "execution_count": 222,
   "metadata": {},
   "outputs": [
    {
     "name": "stdout",
     "output_type": "stream",
     "text": [
      "Train Score:  0.9612790220996534\n",
      "Test Score:  0.9472347826086956\n",
      "              precision    recall  f1-score   support\n",
      "\n",
      "           0       0.97      0.97      0.97     50481\n",
      "           1       0.80      0.75      0.78      7019\n",
      "\n",
      "    accuracy                           0.95     57500\n",
      "   macro avg       0.88      0.86      0.87     57500\n",
      "weighted avg       0.95      0.95      0.95     57500\n",
      "\n"
     ]
    }
   ],
   "source": [
    "classify4=KNeighborsClassifier()\n",
    "classify4.fit(X_train, y_train)\n",
    "print('Train Score: ',classify4.score(X_train, y_train))\n",
    "print('Test Score: ',classify4.score(X_test, y_test))\n",
    "print(classification_report(y_test,classify4.predict(X_test)))"
   ]
  },
  {
   "cell_type": "markdown",
   "metadata": {},
   "source": [
    "Random Forest Classifier"
   ]
  },
  {
   "cell_type": "code",
   "execution_count": 223,
   "metadata": {},
   "outputs": [
    {
     "name": "stdout",
     "output_type": "stream",
     "text": [
      "<bound method BaseEstimator.get_params of RandomForestClassifier(bootstrap=True, ccp_alpha=0.0, class_weight=None,\n",
      "                       criterion='gini', max_depth=2.9, max_features='auto',\n",
      "                       max_leaf_nodes=None, max_samples=None,\n",
      "                       min_impurity_decrease=0.0, min_impurity_split=None,\n",
      "                       min_samples_leaf=1, min_samples_split=2,\n",
      "                       min_weight_fraction_leaf=0.0, n_estimators=300,\n",
      "                       n_jobs=None, oob_score=False, random_state=None,\n",
      "                       verbose=0, warm_start=False)>\n",
      "Train Score:  0.9420787835873737\n",
      "Test Score:  0.943304347826087\n",
      "              precision    recall  f1-score   support\n",
      "\n",
      "           0       0.94      1.00      0.97     50481\n",
      "           1       0.94      0.57      0.71      7019\n",
      "\n",
      "    accuracy                           0.94     57500\n",
      "   macro avg       0.94      0.78      0.84     57500\n",
      "weighted avg       0.94      0.94      0.94     57500\n",
      "\n"
     ]
    }
   ],
   "source": [
    "classify5=RandomForestClassifier(n_estimators=300,max_depth=2.9)\n",
    "print(classify5.get_params)\n",
    "classify5=classify5.fit(X_train,y_train)\n",
    "print('Train Score: ',classify5.score(X_train, y_train))\n",
    "print('Test Score: ',classify5.score(X_test, y_test))\n",
    "print(classification_report(y_test,classify5.predict(X_test)))"
   ]
  },
  {
   "cell_type": "markdown",
   "metadata": {},
   "source": [
    "ADA Boost Classifier"
   ]
  },
  {
   "cell_type": "code",
   "execution_count": 224,
   "metadata": {},
   "outputs": [
    {
     "name": "stdout",
     "output_type": "stream",
     "text": [
      "<bound method BaseEstimator.get_params of AdaBoostClassifier(algorithm='SAMME.R', base_estimator=None, learning_rate=0.02,\n",
      "                   n_estimators=300, random_state=None)>\n",
      "Train Score:  0.9582454440427831\n",
      "Test Score:  0.9584\n",
      "              precision    recall  f1-score   support\n",
      "\n",
      "           0       0.97      0.98      0.98     50481\n",
      "           1       0.87      0.78      0.82      7019\n",
      "\n",
      "    accuracy                           0.96     57500\n",
      "   macro avg       0.92      0.88      0.90     57500\n",
      "weighted avg       0.96      0.96      0.96     57500\n",
      "\n"
     ]
    }
   ],
   "source": [
    "classify6=AdaBoostClassifier(n_estimators=300,learning_rate=0.02)\n",
    "print(classify6.get_params)\n",
    "classify6=classify6.fit(X_train,y_train)\n",
    "print('Train Score: ',classify6.score(X_train, y_train))\n",
    "print('Test Score: ',classify6.score(X_test, y_test))\n",
    "print(classification_report(y_test,classify6.predict(X_test)))"
   ]
  },
  {
   "cell_type": "markdown",
   "metadata": {},
   "source": [
    "# By seeing all of the Algorithms and their scores we can conclude that Decision Tree fits best with an accuracy of 86%."
   ]
  }
 ],
 "metadata": {
  "kernelspec": {
   "display_name": "Python 3",
   "language": "python",
   "name": "python3"
  },
  "language_info": {
   "codemirror_mode": {
    "name": "ipython",
    "version": 3
   },
   "file_extension": ".py",
   "mimetype": "text/x-python",
   "name": "python",
   "nbconvert_exporter": "python",
   "pygments_lexer": "ipython3",
   "version": "3.7.6"
  }
 },
 "nbformat": 4,
 "nbformat_minor": 4
}
